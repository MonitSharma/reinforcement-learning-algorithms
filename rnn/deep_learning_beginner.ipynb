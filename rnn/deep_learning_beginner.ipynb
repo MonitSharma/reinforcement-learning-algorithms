{
 "cells": [
  {
   "cell_type": "markdown",
   "metadata": {},
   "source": [
    "# Deep Learning Tutorial"
   ]
  },
  {
   "cell_type": "markdown",
   "metadata": {},
   "source": [
    "## Introduction"
   ]
  },
  {
   "cell_type": "markdown",
   "metadata": {},
   "source": [
    "One of the machine learning technique that learns features directly from data. With the amount of data increasing, machine learning techniques are insufficient in terms of performance and deep learning gives better performance and accuracy.\n",
    "\n",
    "Deep learning is used in speech recognition, image classification, natural language processing or recommendation systems."
   ]
  },
  {
   "cell_type": "code",
   "execution_count": 1,
   "metadata": {},
   "outputs": [],
   "source": [
    "import numpy as np\n",
    "import pandas as pd\n",
    "import matplotlib.pyplot as plt \n",
    "import warnings\n",
    "warnings.filterwarnings(\"ignore\")"
   ]
  },
  {
   "cell_type": "markdown",
   "metadata": {},
   "source": [
    "We will be using the \"sign language digit datatset\", there are $2062$ sign language digit images, where digits are from $0$ to $9$, so there are only $10$ unique signs. \n",
    "\n",
    "At the beginning, we will only make use of $0$ and $1$, just for simplicity. \n",
    "\n",
    "In this data, sign $0$ is between indexes $204$ and $408$, number of zero signs are 205, and $1$ is between $822$ and $1027$, and they are $206$ in number, so we will be using $205$ samples from each. \n",
    "\n",
    "$X$ is the image array, (zero and one signs), while $Y$ is the label array (0 and 1)"
   ]
  },
  {
   "cell_type": "code",
   "execution_count": 2,
   "metadata": {},
   "outputs": [
    {
     "data": {
      "text/plain": [
       "(-0.5, 63.5, 63.5, -0.5)"
      ]
     },
     "execution_count": 2,
     "metadata": {},
     "output_type": "execute_result"
    },
    {
     "data": {
      "image/png": "[encoded data removed]",
      "text/plain": [
       "<Figure size 640x480 with 2 Axes>"
      ]
     },
     "metadata": {},
     "output_type": "display_data"
    }
   ],
   "source": [
    "\n",
    "# Load dataset\n",
    "x_l = np.load('sign_language_dataset/X.npy')\n",
    "y_l = np.load('sign_language_dataset/Y.npy')\n",
    "\n",
    "img_size = 64\n",
    "plt.subplot(1, 2, 1)\n",
    "plt.imshow(x_l[260].reshape(img_size, img_size))\n",
    "plt.axis('off')\n",
    "plt.subplot(1, 2, 2)\n",
    "plt.imshow(x_l[900].reshape(img_size, img_size))\n",
    "plt.axis('off')"
   ]
  },
  {
   "cell_type": "markdown",
   "metadata": {},
   "source": [
    "In order to create an image array, we have to concatenate zero sign and one sign arrays, then create a label array 0 for zero sign images and 1 for one sign images."
   ]
  },
  {
   "cell_type": "code",
   "execution_count": 3,
   "metadata": {},
   "outputs": [
    {
     "name": "stdout",
     "output_type": "stream",
     "text": [
      "X shape:  (410, 64, 64)\n",
      "Y shape:  (410, 1)\n"
     ]
    }
   ],
   "source": [
    "# join a sequence of arrays along a new axis.\n",
    "X = np.concatenate((x_l[204:409], x_l[822:1027]), axis = 0)\n",
    "\n",
    "z = np.zeros(205)\n",
    "o = np.ones(205)\n",
    "\n",
    "Y = np.concatenate((z,o), axis = 0 ).reshape(X.shape[0],1)\n",
    "\n",
    "print(\"X shape: \" , X.shape)\n",
    "print(\"Y shape: \" , Y.shape)"
   ]
  },
  {
   "cell_type": "markdown",
   "metadata": {},
   "source": [
    "**What do these dimensions means?**\n",
    "\n",
    "<li> The shape of X is (410,64,64). which can be seen as:\n",
    "    410 number of images (in total)\n",
    "    64 is the size of image, i.e 64x64\n",
    "\n",
    "<li> The shape of Y is (410,1)\n",
    "    410 means the 410 labels that we have, 0 and 1s"
   ]
  },
  {
   "cell_type": "markdown",
   "metadata": {},
   "source": [
    "Now, we have to do the test train split of 75-15, make sure to use the same seed while randomizing, so that if we call this test train split again and again, we always create the same distribution."
   ]
  },
  {
   "cell_type": "code",
   "execution_count": 4,
   "metadata": {},
   "outputs": [
    {
     "name": "stdout",
     "output_type": "stream",
     "text": [
      "Number of train:  348\n",
      "Number of test:  62\n"
     ]
    }
   ],
   "source": [
    "from sklearn.model_selection import train_test_split\n",
    "\n",
    "X_train, X_test, Y_train, Y_test = train_test_split(X, Y, test_size=0.15, random_state=42)\n",
    "\n",
    "number_of_train = X_train.shape[0]\n",
    "number_of_test = X_test.shape[0]\n",
    "\n",
    "print(\"Number of train: \", number_of_train)\n",
    "print(\"Number of test: \", number_of_test)"
   ]
  },
  {
   "cell_type": "markdown",
   "metadata": {},
   "source": [
    "Now, since our X dataset is images, which is a 3 dimensional input array, we need to flatten it to make use of it as an input for our first deep learning model. Our labels Y are alreast 2D"
   ]
  },
  {
   "cell_type": "code",
   "execution_count": 5,
   "metadata": {},
   "outputs": [
    {
     "name": "stdout",
     "output_type": "stream",
     "text": [
      "X train flatten (348, 4096)\n",
      "X test flatten (62, 4096)\n"
     ]
    }
   ],
   "source": [
    "X_train_flatten = X_train.reshape(number_of_train,X_train.shape[1]*X_train.shape[2]) \n",
    "X_test_flatten = X_test .reshape(number_of_test,X_test.shape[1]*X_test.shape[2])\n",
    "\n",
    "print(\"X train flatten\", X_train_flatten.shape)\n",
    "print(\"X test flatten\", X_test_flatten.shape)"
   ]
  },
  {
   "cell_type": "markdown",
   "metadata": {},
   "source": [
    "As you can see, we have 348 images and each image has 4096 pixels in image train array.\n",
    "Also, we have 62 images and each image has 4096 pixels in image test array."
   ]
  },
  {
   "cell_type": "markdown",
   "metadata": {},
   "source": [
    "**Side Note**\n",
    "\n",
    "How does this flattening works?"
   ]
  },
  {
   "cell_type": "code",
   "execution_count": 6,
   "metadata": {},
   "outputs": [
    {
     "name": "stdout",
     "output_type": "stream",
     "text": [
      "Original shape of X_train: (5, 3, 3)\n"
     ]
    }
   ],
   "source": [
    "import numpy as np\n",
    "\n",
    "# Original 3D dataset: 5 images, each 3x3\n",
    "X_train_example = np.array([\n",
    "    [[1, 2, 3],\n",
    "     [4, 5, 6],\n",
    "     [7, 8, 9]],\n",
    "    \n",
    "    [[10, 11, 12],\n",
    "     [13, 14, 15],\n",
    "     [16, 17, 18]],\n",
    "    \n",
    "    [[19, 20, 21],\n",
    "     [22, 23, 24],\n",
    "     [25, 26, 27]],\n",
    "    \n",
    "    [[28, 29, 30],\n",
    "     [31, 32, 33],\n",
    "     [34, 35, 36]],\n",
    "    \n",
    "    [[37, 38, 39],\n",
    "     [40, 41, 42],\n",
    "     [43, 44, 45]]\n",
    "])\n",
    "\n",
    "print(\"Original shape of X_train:\", X_train_example.shape)"
   ]
  },
  {
   "cell_type": "markdown",
   "metadata": {},
   "source": [
    "This output means you have 5 images, each with a shape of 3x3 pixels."
   ]
  },
  {
   "cell_type": "markdown",
   "metadata": {},
   "source": [
    "### Flatten the Images"
   ]
  },
  {
   "cell_type": "code",
   "execution_count": 7,
   "metadata": {},
   "outputs": [
    {
     "name": "stdout",
     "output_type": "stream",
     "text": [
      "Flattened shape of X_train: (5, 9)\n",
      "X_train_flatten:\n",
      " [[ 1  2  3  4  5  6  7  8  9]\n",
      " [10 11 12 13 14 15 16 17 18]\n",
      " [19 20 21 22 23 24 25 26 27]\n",
      " [28 29 30 31 32 33 34 35 36]\n",
      " [37 38 39 40 41 42 43 44 45]]\n"
     ]
    }
   ],
   "source": [
    "number_of_train_example = X_train_example.shape[0]  # 5 images\n",
    "X_train_flatten_example = X_train_example.reshape(number_of_train_example, X_train_example.shape[1] * X_train_example.shape[2])\n",
    "\n",
    "print(\"Flattened shape of X_train:\", X_train_flatten_example.shape)\n",
    "print(\"X_train_flatten:\\n\", X_train_flatten_example)"
   ]
  },
  {
   "cell_type": "markdown",
   "metadata": {},
   "source": [
    "### Explanation of the Flattened Array\n",
    "\n",
    "The shape `(5, 9)` indicates:\n",
    "- There are 5 rows, one for each image.\n",
    "- Each row has 9 values, representing each pixel in the original 3x3 image (flattened).\n",
    "\n",
    "Each row in `X_train_flatten` now contains a flattened version of the original 3x3 image. Here’s what each row represents:\n",
    "\n",
    "- **First image:** `[1, 2, 3, 4, 5, 6, 7, 8, 9]`\n",
    "- **Second image:** `[10, 11, 12, 13, 14, 15, 16, 17, 18]`\n",
    "- **Third image:** `[19, 20, 21, 22, 23, 24, 25, 26, 27]`\n",
    "- **Fourth image:** `[28, 29, 30, 31, 32, 33, 34, 35, 36]`\n",
    "- **Fifth image:** `[37, 38, 39, 40, 41, 42, 43, 44, 45]`\n",
    "\n",
    "### Why This Works\n",
    "\n",
    "Flattening an image essentially \"unrolls\" each 2D matrix (image) into a single row. For a 3x3 image, we take each row and lay it out end-to-end:\n",
    "- The first row `[1, 2, 3]` becomes the first three elements in the flattened row.\n",
    "- The second row `[4, 5, 6]` follows.\n",
    "- The third row `[7, 8, 9]` completes the row.\n",
    "\n",
    "This process is repeated for each image, resulting in a 2D array where each row represents a flattened version of the original 2D image.\n",
    "\n",
    "---\n",
    "\n",
    "### Recap\n",
    "\n",
    "- **Original shape:** `(5, 3, 3)` — 5 images, each 3x3 pixels.\n",
    "- **Flattened shape:** `(5, 9)` — 5 rows, each representing a flattened 3x3 image with 9 pixels.\n",
    "\n",
    "This code enables you to transform your images into a format suitable for feeding into certain machine learning models."
   ]
  },
  {
   "cell_type": "markdown",
   "metadata": {},
   "source": [
    "**back to the original code**"
   ]
  },
  {
   "cell_type": "code",
   "execution_count": 8,
   "metadata": {},
   "outputs": [
    {
     "name": "stdout",
     "output_type": "stream",
     "text": [
      "x train:  (4096, 348)\n",
      "x test:  (4096, 62)\n",
      "y train:  (1, 348)\n",
      "y test:  (1, 62)\n"
     ]
    }
   ],
   "source": [
    "# let's take a transpose of the flattened dataset\n",
    "x_train = X_train_flatten.T\n",
    "x_test = X_test_flatten.T\n",
    "y_train = Y_train.T\n",
    "y_test = Y_test.T\n",
    "\n",
    "print(\"x train: \", x_train.shape)\n",
    "print(\"x test: \", x_test.shape)\n",
    "print(\"y train: \", y_train.shape)\n",
    "print(\"y test: \", y_test.shape)"
   ]
  },
  {
   "cell_type": "markdown",
   "metadata": {},
   "source": [
    "### Why Transpose the Data?\n",
    "\n",
    "Transposing `X_train`, `X_test`, `y_train`, and `y_test` is typically done to adjust the data’s shape to match the expected input format for certain machine learning models, especially in deep learning frameworks.\n",
    "\n",
    "---\n",
    "\n",
    "#### 1. Understanding the Shape of Flattened Data\n",
    "\n",
    "After flattening, suppose `X_train_flatten` has a shape of `(number_of_train, height * width)`. For example:\n",
    "- `X_train_flatten.shape` might be `(1000, 4096)` for 1000 images, each flattened into a vector of size 4096.\n",
    "\n",
    "Most deep learning frameworks expect data in the shape **(features, samples)** rather than **(samples, features)**, particularly for specific types of models or when working directly with linear algebra operations.\n",
    "\n",
    "---\n",
    "\n",
    "#### 2. Why Transpose?\n",
    "\n",
    "When we transpose `X_train` and `X_test`, we change their shape from:\n",
    "- `(samples, features)` to `(features, samples)`\n",
    "\n",
    "Similarly, for the labels `y_train` and `y_test` (assuming they are one-dimensional vectors of shape `(samples,)`), transposing converts them into a 2D shape `(1, samples)`, which is often required for certain models that use vectorized operations.\n",
    "\n",
    "---\n",
    "\n",
    "#### 3. Example\n",
    "\n",
    "Suppose the data shapes are as follows:\n",
    "- `X_train_flatten.shape` = `(1000, 4096)`\n",
    "- `y_train.shape` = `(1000,)`\n",
    "\n",
    "After transposing:\n",
    "- `X_train_flatten.T` shape = `(4096, 1000)`\n",
    "- `y_train.T` shape = `(1, 1000)`\n",
    "\n",
    "This new shape makes it easier to perform operations on a **feature-by-feature basis across samples**, which can be beneficial for vectorized operations in machine learning libraries.\n",
    "\n",
    "---\n",
    "\n",
    "#### 4. Practical Reasons\n",
    "\n",
    "The need for transposing usually arises in these situations:\n",
    "- **Matrix Multiplications**: Some models or linear algebra operations expect the features to be along the rows rather than the columns.\n",
    "- **Framework Expectations**: Certain libraries or algorithms (such as neural network layers in some frameworks) may expect input data in a `(features, samples)` format.\n",
    "- **Batch Processing**: Transposed data can facilitate efficient calculations, especially for batch processing and gradient calculations during backpropagation.\n",
    "\n",
    "---\n",
    "\n",
    "### Summary\n",
    "\n",
    "Transposing the data helps reformat it to align with the model’s input requirements or the framework's expectations, enabling efficient calculations, particularly for batch processing and vectorized operations."
   ]
  },
  {
   "cell_type": "markdown",
   "metadata": {},
   "source": [
    "# Logistic Regression"
   ]
  },
  {
   "cell_type": "markdown",
   "metadata": {},
   "source": [
    "## Computation Graph"
   ]
  },
  {
   "cell_type": "markdown",
   "metadata": {},
   "source": [
    "They are a nice way to thing about mathematical expressions, for example, if we have\n",
    "$$ c = \\sqrt{a^2 + b^2} $$\n",
    "\n",
    "It's computation graph is:"
   ]
  },
  {
   "attachments": {
    "d.jpg": {
     "image/jpeg": "[encoded data removed]"
    }
   },
   "cell_type": "markdown",
   "metadata": {},
   "source": [
    "![d.jpg](attachment:d.jpg)"
   ]
  },
  {
   "cell_type": "markdown",
   "metadata": {},
   "source": [
    "Now, a computational graph of logistic regression looks like:"
   ]
  },
  {
   "attachments": {
    "5.jpg": {
     "image/jpeg": "[encoded data removed]"
    }
   },
   "cell_type": "markdown",
   "metadata": {},
   "source": [
    "![5.jpg](attachment:5.jpg)"
   ]
  },
  {
   "cell_type": "markdown",
   "metadata": {},
   "source": [
    "## Explanation of the Logistic Regression Computational Graph\n",
    "\n",
    "Logistic regression is a binary classification algorithm used to predict the probability of a target variable belonging to a particular class. The computational graph in the image provides a visual representation of how logistic regression works.\n",
    "\n",
    "---\n",
    "\n",
    "### 1. Input Data (`X_train`)\n",
    "\n",
    "- **`X_train`** represents the input data, which in this example consists of **4096 features** (labeled `px1`, `px2`, ..., `px4096`).\n",
    "- Each feature in `X_train` corresponds to a pixel in an image (flattened into a single row), where **4096** represents the total number of pixels (e.g., for a 64x64 grayscale image).\n",
    "- Each feature is a numeric value (pixel intensity) that is input into the model.\n",
    "\n",
    "---\n",
    "\n",
    "### 2. Weights (`w0`, `w1`, ..., `w4096`)\n",
    "\n",
    "- Each input feature (`px1`, `px2`, ..., `px4096`) is associated with a weight (`w0`, `w1`, ..., `w4096`).\n",
    "- These **weights** are parameters learned by the logistic regression model during training.\n",
    "- Each weight indicates the importance or influence of a corresponding feature on the final prediction.\n",
    "\n",
    "---\n",
    "\n",
    "### 3. Bias (`b`)\n",
    "\n",
    "- The **bias term `b`** is an additional parameter that allows the model to adjust the output independently of the input values.\n",
    "- It essentially shifts the decision boundary of the model, enabling it to fit the data better.\n",
    "\n",
    "---\n",
    "\n",
    "### 4. Summation (`z`)\n",
    "\n",
    "- The input data and weights are combined in a linear form:\n",
    "  \n",
    "  $$\n",
    "  z = w_0 \\cdot px1 + w_1 \\cdot px2 + w_2 \\cdot px3 + \\dots + w_{4096} \\cdot px4096 + b\n",
    "  $$\n",
    "\n",
    "- This summation computes the **weighted sum** of the input features, plus the bias.\n",
    "- The result, `z`, is a single scalar value that represents the linear combination of inputs.\n",
    "\n",
    "---\n",
    "\n",
    "### 5. Sigmoid Activation Function\n",
    "\n",
    "- After computing `z`, the value is passed through the **sigmoid function**, which is defined as:\n",
    "\n",
    "  $$\n",
    "  \\sigma(z) = \\frac{1}{1 + e^{-z}}\n",
    "  $$\n",
    "\n",
    "- The sigmoid function **squashes the output** into a range between 0 and 1, making it interpretable as a probability.\n",
    "- This output, often denoted as **`y_hat`** (or the predicted probability), represents the probability that the input belongs to the positive class (e.g., sign language \"1\" in this case).\n",
    "\n",
    "---\n",
    "\n",
    "### 6. Output Probability (`y_head` or `ŷ`)\n",
    "\n",
    "- The sigmoid function’s output, `ŷ` (or `y_head`), represents the **probability of the positive class**.\n",
    "- For example, if `ŷ = 0.9`, it implies a 90% probability that the input belongs to class \"1\".\n",
    "\n",
    "---\n",
    "\n",
    "### 7. Thresholding and Prediction\n",
    "\n",
    "- In binary classification, a threshold (typically 0.5) is applied to `ŷ` to make a final prediction:\n",
    "  - If `ŷ > 0.5`, the prediction is class `1`.\n",
    "  - If `ŷ <= 0.5`, the prediction is class `0`.\n",
    "- In this example, `ŷ = 0.9`, which is greater than 0.5, so the model predicts the input is of class `1`.\n",
    "\n",
    "---\n",
    "\n",
    "### Summary of Steps\n",
    "\n",
    "1. **Input Data**: Each pixel (feature) of the image is fed into the model.\n",
    "2. **Weights and Bias**: The model applies learned weights and bias to each feature.\n",
    "3. **Summation (`z`)**: Computes the weighted sum of all features.\n",
    "4. **Sigmoid Activation**: Transforms `z` into a probability between 0 and 1.\n",
    "5. **Thresholding**: Compares `ŷ` to 0.5 to make a binary prediction.\n",
    "\n",
    "This computational graph demonstrates how logistic regression works in a structured way, transforming raw pixel data into a probabilistic prediction, ultimately used for classification."
   ]
  },
  {
   "cell_type": "markdown",
   "metadata": {},
   "source": [
    "## Why Use the Sigmoid Function in Logistic Regression?\n",
    "\n",
    "The sigmoid function plays a crucial role in logistic regression, as it transforms the output of a linear equation into a probability, making it suitable for binary classification tasks. Here’s a detailed breakdown of why the sigmoid function is used:\n",
    "\n",
    "---\n",
    "\n",
    "### 1. Mapping Output to Probability\n",
    "\n",
    "- Logistic regression is used for **binary classification**, where the goal is to predict the probability that an input belongs to a certain class (e.g., class `1` or class `0`).\n",
    "- The sigmoid function **maps any real-valued number** (the output of the linear equation) into a range between **0 and 1**, which can be interpreted as a probability.\n",
    "  \n",
    "  $$\n",
    "  \\sigma(z) = \\frac{1}{1 + e^{-z}}\n",
    "  $$\n",
    "\n",
    "- If the output of the linear equation `z` is very large (positive or negative), the sigmoid function will bring it within the probability range of `[0, 1]`, where:\n",
    "  - Values close to 1 indicate a high probability of belonging to the positive class.\n",
    "  - Values close to 0 indicate a low probability of belonging to the positive class.\n",
    "\n",
    "---\n",
    "\n",
    "### 2. Smooth and Differentiable\n",
    "\n",
    "- The sigmoid function is **smooth and differentiable**, which means it has a continuous gradient.\n",
    "- This smooth gradient is essential for **gradient-based optimization** algorithms, such as gradient descent, which are used to find optimal weights and bias values in logistic regression.\n",
    "- The differentiable nature of the sigmoid function allows us to compute gradients, enabling efficient updates to the weights and bias during training.\n",
    "\n",
    "---\n",
    "\n",
    "### 3. Non-linear Transformation\n",
    "\n",
    "- Logistic regression applies a **linear transformation** to the input features (using weights and bias), but a linear model alone cannot output probabilities.\n",
    "- The sigmoid function introduces **non-linearity** to the model, allowing it to produce probabilities rather than unrestricted real numbers.\n",
    "- This non-linearity is crucial for classification tasks, as it compresses the output of the linear combination into a bounded range, `[0, 1]`, which can be interpreted as a probability.\n",
    "\n",
    "---\n",
    "\n",
    "### 4. Decision Boundary\n",
    "\n",
    "- By applying a threshold (typically 0.5) to the sigmoid output, we can classify the input as one of two classes:\n",
    "  - If `ŷ > 0.5`, classify as class `1` (positive).\n",
    "  - If `ŷ <= 0.5`, classify as class `0` (negative).\n",
    "- The sigmoid function creates a **smooth decision boundary** that separates the two classes, allowing logistic regression to work well for linearly separable data.\n",
    "\n",
    "---\n",
    "\n",
    "### 5. Interpretability\n",
    "\n",
    "- The output of the sigmoid function can be **directly interpreted as a probability**, making logistic regression a probabilistic model.\n",
    "- For example, if `ŷ = 0.9`, we can interpret this as a 90% confidence that the input belongs to class `1`.\n",
    "- This probabilistic interpretation is valuable in many applications, such as medical diagnosis or spam detection, where understanding the confidence of the prediction is essential.\n",
    "\n",
    "---\n",
    "\n",
    "### Summary: Benefits of Using the Sigmoid Function\n",
    "\n",
    "- **Maps outputs to probabilities**: Outputs a value between 0 and 1, making it interpretable as a probability.\n",
    "- **Smooth and differentiable**: Facilitates gradient-based optimization in training.\n",
    "- **Non-linear transformation**: Enables logistic regression to output probabilities instead of raw linear values.\n",
    "- **Enables decision boundary**: Allows thresholding to separate classes effectively.\n",
    "- **Interpretability**: Makes the output directly understandable as the probability of belonging to a specific class.\n",
    "\n",
    "In short, the sigmoid function is used in logistic regression to convert the linear output into a probability that can be thresholded for binary classification. This makes logistic regression a powerful yet simple model for classification tasks."
   ]
  },
  {
   "cell_type": "markdown",
   "metadata": {},
   "source": [
    "## Initializing Parameters"
   ]
  },
  {
   "cell_type": "markdown",
   "metadata": {},
   "source": [
    "### Initializing Parameters in Logistic Regression\n",
    "\n",
    "In logistic regression, our input consists of images with **4096 pixels each** (as given in `x_train`). Each pixel has an associated **weight** that indicates its influence on the final prediction. Before training the model, we need to initialize these weights and the bias term.\n",
    "\n",
    "#### 1. Why Initialize Weights?\n",
    "\n",
    "The first step in logistic regression is to **multiply each pixel's value by its corresponding weight** and then sum the results to get a linear combination of the input features. However, since the model hasn’t learned any patterns yet, the weights need to be initialized with some initial values. Proper weight initialization is crucial, as it sets the foundation for learning. Starting with poor values can lead to slower or suboptimal learning.\n",
    "\n",
    "#### 2. Initial Values for Weights\n",
    "\n",
    "For this example, we’ll initialize all weights to a small value of **0.01**. Initializing weights with small, non-zero values helps prevent the model from getting \"stuck\" with zero gradients and enables it to start learning effectively. (There are more advanced initialization techniques, which we’ll discuss in detail when covering Artificial Neural Networks (ANNs), but for now, setting weights to 0.01 will suffice.)\n",
    "\n",
    "#### 3. Shape of the Weight Array\n",
    "\n",
    "As we can see from the computational graph of logistic regression, there are **4096 weights** — one for each pixel in an image. Since each weight is applied to a single pixel, the weight array has a shape of **(4096, 1)**. This shape allows each weight to align with its corresponding pixel in the input data.\n",
    "\n",
    "#### 4. Initializing the Bias\n",
    "\n",
    "In addition to weights, we also initialize a **bias term (`b`)**. The bias term allows the model to shift the decision boundary independently of the input values, giving it more flexibility. For logistic regression, we typically initialize the bias to **0**.\n",
    "\n",
    "---\n",
    "\n",
    "### Code for Parameter Initialization\n",
    "\n",
    "To keep the code modular and reusable, we’ll define a function to initialize these parameters. This function will be useful later when we expand into more complex models, such as Artificial Neural Networks (ANNs).\n",
    "\n",
    "```python\n",
    "def initialize_parameters(dim):\n",
    "    \"\"\"\n",
    "    Initializes weights and bias for logistic regression.\n",
    "    \n",
    "    Arguments:\n",
    "    dim -- size of the weight vector (number of features)\n",
    "    \n",
    "    Returns:\n",
    "    w -- initialized weight vector of shape (dim, 1)\n",
    "    b -- initialized bias, set to 0\n",
    "    \"\"\"\n",
    "    w = np.full((dim, 1), 0.01)  # Initialize weights with 0.01\n",
    "    b = 0                        # Initialize bias to 0\n",
    "    return w, b\n",
    "\n",
    "# Example usage\n",
    "dim = 4096  # Number of pixels in each image\n",
    "w, b = initialize_parameters(dim)\n",
    "print(\"Shape of weights:\", w.shape)\n",
    "print(\"Bias:\", b)\n",
    "```"
   ]
  },
  {
   "cell_type": "markdown",
   "metadata": {},
   "source": [
    "#### Explanation of the Code\n",
    "\n",
    "- **Function Name**: `initialize_parameters`  \n",
    "  This function is designed to initialize the weight vector (`w`) and the bias (`b`) for logistic regression. By using a function, we keep the initialization code modular and reusable for future applications.\n",
    "\n",
    "- **Parameter (`dim`)**:  \n",
    "  The function takes `dim` as an argument, which represents the number of features (or pixels) in each image. In our case, `dim = 4096`, since each image has 4096 pixels.\n",
    "\n",
    "- **Weight Initialization**:  \n",
    "  Inside the function, `np.full((dim, 1), 0.01)` creates a weight vector `w` with the specified shape `(dim, 1)`, where each element is set to the initial value **0.01**. This results in a weight vector with 4096 rows and 1 column, corresponding to each pixel. Initializing all weights with a small, non-zero value (0.01) provides a good starting point for learning and helps the model avoid issues that can arise if weights start at zero.\n",
    "\n",
    "- **Bias Initialization**:  \n",
    "  The bias `b` is initialized to **0**. Unlike weights, bias is a single scalar value that adjusts the model's output independently of the input features. Initializing it to zero is common practice in logistic regression, as it will be updated during training.\n",
    "\n",
    "- **Returning Values**:  \n",
    "  The function returns `w` and `b` as outputs, providing the initialized parameters to use in the model.\n",
    "\n",
    "- **Example Usage**:  \n",
    "  After defining the function, we call `initialize_parameters(4096)` to initialize weights and bias for images with 4096 pixels. The output shows:\n",
    "  - `w` with a shape of `(4096, 1)`, meaning there’s a weight for each pixel.\n",
    "  - `b` initialized to `0`.\n",
    "\n",
    "This initialization setup allows the logistic regression model to start with appropriate initial values for training."
   ]
  },
  {
   "cell_type": "code",
   "execution_count": 9,
   "metadata": {},
   "outputs": [],
   "source": [
    "def initialize_weights_and_bias(dimension):\n",
    "    w = np.full((dimension, 1), 0.01)\n",
    "    b = 0.0\n",
    "    return w, b"
   ]
  },
  {
   "cell_type": "markdown",
   "metadata": {},
   "source": [
    "### Forward Propagation in Logistic Regression\n",
    "\n",
    "**Forward propagation** in logistic regression involves all the steps from processing the input pixels to calculating the cost (error) for a single training iteration. Let’s break down each step:\n",
    "\n",
    "---\n",
    "\n",
    "#### 1. Linear Combination (`z`)\n",
    "\n",
    "The first step in forward propagation is to calculate a **linear combination** of the input features and their corresponding weights, plus the bias term. This is given by the equation:\n",
    "\n",
    "$$\n",
    "z = w^T x + b\n",
    "$$\n",
    "\n",
    "where:\n",
    "- `x` is the input vector (flattened pixels of an image).\n",
    "- `w` is the weight vector.\n",
    "- `b` is the bias term.\n",
    "- `w^T` represents the transpose of `w`, which allows us to perform matrix multiplication with `x` and get a scalar output.\n",
    "\n",
    "Since we already have values for `x`, `w`, and `b` from the input data and parameter initialization, calculating `z` is straightforward.\n",
    "\n",
    "---\n",
    "\n",
    "#### 2. Sigmoid Activation Function\n",
    "\n",
    "After calculating `z`, we pass it through the **sigmoid function** to convert it into a probability. The sigmoid function, defined as:\n",
    "\n",
    "$$\n",
    "\\sigma(z) = \\frac{1}{1 + e^{-z}}\n",
    "$$\n",
    "\n",
    "squashes the output to a value between **0 and 1**, which represents the predicted probability (`y_head`) of the input belonging to the positive class (e.g., class `1`). This probability, `y_head`, is our model’s prediction for the given input.\n",
    "\n",
    "If you get confused by the steps, refer back to the computation graph for logistic regression. The sigmoid function is visually depicted there to help you understand how it transforms `z` into a probability.\n",
    "\n",
    "---\n",
    "\n",
    "#### 3. Loss (Error) Calculation\n",
    "\n",
    "Next, we calculate the **loss (error)** for a single training example. The loss function measures how far off the prediction (`y_head`) is from the actual label `y`. In logistic regression, we use the **binary cross-entropy loss**:\n",
    "\n",
    "$$\n",
    "\\text{Loss} = - \\left( y \\cdot \\log(y\\_head) + (1 - y) \\cdot \\log(1 - y\\_head) \\right)\n",
    "$$\n",
    "\n",
    "where:\n",
    "- `y` is the true label (0 or 1) for the input.\n",
    "- `y_head` is the predicted probability of class `1`.\n",
    "\n",
    "This loss function penalizes incorrect predictions more heavily, making it ideal for binary classification tasks.\n",
    "\n",
    "---\n",
    "\n",
    "#### 4. Cost Function (Summing All Losses)\n",
    "\n",
    "The **cost function** is the average of the loss values across all training examples. It is computed as:\n",
    "\n",
    "$$\n",
    "\\text{Cost} = \\frac{1}{m} \\sum_{i=1}^{m} \\text{Loss}(y_i, y\\_head_i)\n",
    "$$\n",
    "\n",
    "where:\n",
    "- `m` is the total number of training examples.\n",
    "- `Loss(y_i, y_head_i)` is the loss for each individual example.\n",
    "\n",
    "Minimizing this cost function during training will improve the model’s accuracy by adjusting the weights and bias to reduce prediction errors.\n",
    "\n",
    "---\n",
    "\n",
    "### Code for Forward Propagation\n",
    "\n",
    "Let’s start by calculating `z`, then define a function for the sigmoid activation, which takes `z` as an input parameter and returns `y_head` (the probability).\n",
    "\n",
    "```python\n",
    "def sigmoid(z):\n",
    "    \"\"\"\n",
    "    Computes the sigmoid of z.\n",
    "\n",
    "    Arguments:\n",
    "    z -- A scalar or numpy array of any size\n",
    "\n",
    "    Returns:\n",
    "    s -- sigmoid(z), output between 0 and 1\n",
    "    \"\"\"\n",
    "    s = 1 / (1 + np.exp(-z))\n",
    "    return s\n",
    "\n",
    "# Example calculation of z\n",
    "z = np.dot(w.T, x) + b  # w.T represents the transpose of w\n",
    "y_head = sigmoid(z)     # y_head is the predicted probability\n",
    "```"
   ]
  },
  {
   "cell_type": "markdown",
   "metadata": {},
   "source": [
    "#### Explanation of the Code\n",
    "\n",
    "- **Sigmoid Function**:  \n",
    "  The `sigmoid` function calculates the sigmoid of `z`, which is a mathematical operation that maps any input to a value between 0 and 1. This output represents the probability (`y_head`) that the input belongs to the positive class. The sigmoid function is defined as:\n",
    "\n",
    "  $$\n",
    "  \\sigma(z) = \\frac{1}{1 + e^{-z}}\n",
    "  $$\n",
    "  In the code, `s = 1 / (1 + np.exp(-z))` implements this formula, where `np.exp(-z)` calculates the exponential of `-z` for each element in `z`.\n",
    "\n",
    "- **Calculation of `z`**:  \n",
    "  The variable `z` is calculated using the expression `np.dot(w.T, x) + b`. Here:\n",
    "  - `w.T` is the transpose of the weight vector `w`. Transposing `w` (which has shape `(4096, 1)`) makes it compatible with `x` for matrix multiplication.\n",
    "  - `np.dot(w.T, x)` performs the dot product between `w.T` and `x`, resulting in a scalar value `z` (since `x` is also a vector of shape `(4096, 1)`).\n",
    "  - Adding `b` incorporates the bias term into the calculation, which helps adjust the model's decision boundary.\n",
    "\n",
    "- **Predicted Probability (`y_head`)**:  \n",
    "  After calculating `z`, we pass it into the `sigmoid` function to obtain `y_head`, the predicted probability that the input belongs to class `1`. This probability (`y_head`) will be used to calculate the loss and cost in the training process.\n",
    "\n",
    "By organizing the code this way, we separate the calculation of `z` and the sigmoid function, which makes it modular and easier to understand. This modular approach will also make it easier to reuse the sigmoid function in future parts of the model."
   ]
  },
  {
   "cell_type": "code",
   "execution_count": 10,
   "metadata": {},
   "outputs": [],
   "source": [
    "def sigmoid(z):\n",
    "    y_head = 1/(1+np.exp(-z))\n",
    "    return y_head"
   ]
  },
  {
   "cell_type": "code",
   "execution_count": 11,
   "metadata": {},
   "outputs": [
    {
     "name": "stdout",
     "output_type": "stream",
     "text": [
      "0.5\n"
     ]
    }
   ],
   "source": [
    "y_head = sigmoid(0)\n",
    "print(y_head)"
   ]
  },
  {
   "cell_type": "markdown",
   "metadata": {},
   "source": [
    "### Understanding the Loss (Error) Function in Logistic Regression\n",
    "\n",
    "Now that we have implemented the sigmoid function and calculated the predicted probability (`y_head`), let’s dive into the concept of the **loss (error) function** and its role in logistic regression.\n",
    "\n",
    "---\n",
    "\n",
    "#### 1. Purpose of the Loss Function\n",
    "\n",
    "After making a prediction with `y_head`, we need a way to measure how accurate our prediction is. The **loss function** (or error function) helps us quantify the difference between the predicted probability (`y_head`) and the actual label (`y`) for a single training example.\n",
    "\n",
    "For example:\n",
    "- Suppose we input an image, calculate `z` (by multiplying each pixel value by its weight and adding the bias), and then pass `z` through the sigmoid function to get `y_head`.\n",
    "- If `y_head = 0.9`, which is greater than 0.5, our model predicts that the image belongs to class `1` (positive class). This prediction looks correct on the surface, but we still need to confirm it.\n",
    "\n",
    "#### 2. How the Loss Function Works\n",
    "\n",
    "The loss function provides a way to check if our prediction (`y_head`) is accurate:\n",
    "- The **log loss (or binary cross-entropy loss)** is used in logistic regression. Its mathematical expression is:\n",
    "\n",
    "  $$\n",
    "  \\text{Loss} = - \\left( y \\cdot \\log(y\\_head) + (1 - y) \\cdot \\log(1 - y\\_head) \\right)\n",
    "  $$\n",
    "\n",
    "  where:\n",
    "  - `y` is the true label (either `0` or `1`).\n",
    "  - `y_head` is the predicted probability.\n",
    "\n",
    "This formula penalizes incorrect predictions by assigning a higher loss value. If the prediction is correct, the loss is low; if it is incorrect, the loss becomes high.\n",
    "\n",
    "#### 3. Example of the Loss Function\n",
    "\n",
    "- **Correct Prediction**:  \n",
    "  Suppose the actual label of the image is `y = 1` (the image belongs to class `1`), and our model’s prediction is `y_head = 1`. When we substitute `y` and `y_head` into the loss function, the result is `0`. This is because we made a correct prediction, so the loss is minimized.\n",
    "\n",
    "- **Incorrect Prediction**:  \n",
    "  If the model’s prediction is `y_head = 0` (indicating class `0`), but the true label is `y = 1`, the loss function results in a very large value (approaching infinity). This high loss indicates that the prediction is highly inaccurate.\n",
    "\n",
    "The log loss function, therefore, discourages incorrect predictions by assigning higher penalty values to them.\n",
    "\n",
    "---\n",
    "\n",
    "#### 4. Cost Function (Summing All Losses)\n",
    "\n",
    "The **cost function** in logistic regression is the average of the loss values across all training examples. It aggregates the individual losses for each training sample, providing an overall measure of the model’s accuracy on the dataset. The cost function is defined as:\n",
    "\n",
    "$$\n",
    "\\text{Cost} = \\frac{1}{m} \\sum_{i=1}^{m} \\text{Loss}(y_i, y\\_head_i)\n",
    "$$\n",
    "\n",
    "where:\n",
    "- `m` is the number of training examples.\n",
    "- `Loss(y_i, y_head_i)` is the loss for each individual training example.\n",
    "\n",
    "Minimizing this cost function through training allows the model to improve its predictions over time by adjusting the weights and bias.\n",
    "\n",
    "---\n",
    "\n",
    "### Code Implementation for Forward Propagation\n",
    "\n",
    "Now that we understand the purpose of the loss and cost functions, let’s implement forward propagation. This involves calculating `z`, applying the sigmoid function to obtain `y_head`, and then calculating the loss.\n",
    "\n",
    "```python\n",
    "def forward_propagation(x, y, w, b):\n",
    "    \"\"\"\n",
    "    Implements the forward propagation step, which includes\n",
    "    calculating z, applying the sigmoid function, and computing the loss.\n",
    "\n",
    "    Arguments:\n",
    "    x -- Input data (flattened pixels of an image)\n",
    "    y -- True label (0 or 1)\n",
    "    w -- Weight vector of shape (4096, 1)\n",
    "    b -- Bias term (scalar)\n",
    "\n",
    "    Returns:\n",
    "    y_head -- Predicted probability\n",
    "    cost -- Cost function (average of the losses)\n",
    "    \"\"\"\n",
    "    # Step 1: Calculate z (linear combination)\n",
    "    z = np.dot(w.T, x) + b\n",
    "\n",
    "    # Step 2: Apply sigmoid function to get predicted probability y_head\n",
    "    y_head = sigmoid(z)\n",
    "\n",
    "    # Step 3: Compute the loss for the single example\n",
    "    loss = - (y * np.log(y_head) + (1 - y) * np.log(1 - y_head))\n",
    "\n",
    "    return y_head, loss\n",
    "```"
   ]
  },
  {
   "cell_type": "markdown",
   "metadata": {},
   "source": [
    "#### Explanation of the Code\n",
    "\n",
    "- **Function Name**: `forward_propagation`  \n",
    "  This function performs the forward propagation steps, including calculating `z`, applying the sigmoid function to get the prediction (`y_head`), and calculating the loss for a single example.\n",
    "\n",
    "- **Arguments**:\n",
    "  - `x`: The input data (flattened pixel values of a single image).\n",
    "  - `y`: The true label (either 0 or 1) for the input image.\n",
    "  - `w`: The weight vector with a shape of `(4096, 1)`, where each weight corresponds to a pixel.\n",
    "  - `b`: The bias term, which is a scalar value.\n",
    "\n",
    "- **Calculation of `z`**:  \n",
    "  The line `z = np.dot(w.T, x) + b` calculates the linear combination of inputs and weights, plus the bias term:\n",
    "  - `np.dot(w.T, x)` computes the dot product between the transposed weight vector (`w.T`) and the input vector (`x`), resulting in a scalar value `z`.\n",
    "  - Adding `b` incorporates the bias, adjusting the model’s prediction independently of the input values.\n",
    "\n",
    "- **Predicted Probability (`y_head`)**:  \n",
    "  `y_head = sigmoid(z)` passes `z` through the sigmoid function to convert it into a probability between 0 and 1. This probability (`y_head`) represents the model’s prediction that the input image belongs to class `1`.\n",
    "\n",
    "- **Loss Calculation**:  \n",
    "  `loss = - (y * np.log(y_head) + (1 - y) * np.log(1 - y_head))` computes the binary cross-entropy loss:\n",
    "  - If `y` matches `y_head` closely, the loss will be small, indicating an accurate prediction.\n",
    "  - If `y` and `y_head` differ significantly, the loss will be high, indicating a poor prediction.\n",
    "  - This loss measures the error for a single training example.\n",
    "\n",
    "By executing these steps, the `forward_propagation` function calculates the predicted probability and the associated error for a given input, setting the foundation for training the model by minimizing this loss."
   ]
  },
  {
   "cell_type": "code",
   "execution_count": 12,
   "metadata": {},
   "outputs": [],
   "source": [
    "def forward_propagation(w, b, x_train, y_train):\n",
    "    z = np.dot(w.T, x_train) + b\n",
    "    y_head = sigmoid(z) # probabilistic 0-1\n",
    "    loss = -y_train*np.log(y_head)-(1-y_train)*np.log(1-y_head)\n",
    "    cost = (np.sum(loss))/x_train.shape[1] # x_train.shape[1]  is for scaling\n",
    "    return cost"
   ]
  },
  {
   "cell_type": "markdown",
   "metadata": {},
   "source": [
    "## Optimization Algorithm with Gradient Descent"
   ]
  },
  {
   "attachments": {
    "7.jpg": {
     "image/jpeg": "[encoded data removed]"
    }
   },
   "cell_type": "markdown",
   "metadata": {},
   "source": [
    "### Optimization Algorithm with Gradient Descent\n",
    "\n",
    "Now that we understand the **cost** (or error) of our model, we need a way to **reduce the cost**. A high cost means our model is making incorrect predictions, so reducing the cost will help improve its accuracy. The method we use to minimize the cost function is called **gradient descent**.\n",
    "\n",
    "---\n",
    "\n",
    "#### 1. Why Gradient Descent?\n",
    "\n",
    "In logistic regression, the cost depends on the model’s **weights** and **bias**. To minimize the cost, we need to adjust these parameters so that the model learns the optimal values. Gradient descent is an iterative optimization technique that adjusts the weights and bias in the direction that decreases the cost.\n",
    "\n",
    "---\n",
    "\n",
    "#### 2. Gradient Descent: An Example\n",
    "\n",
    "Let’s walk through a simple example:\n",
    "\n",
    "- Suppose we start with \\( w = 5 \\) and \\( b = 0 \\) (ignoring bias for simplicity).\n",
    "- After one forward propagation step, the **cost** (error) is calculated to be \\( 1.5 \\).\n",
    "  \n",
    "  This initial value of \\( w \\) does not minimize the cost. As shown in the example graph (red line), we’re not at the lowest point. We need to move \\( w \\) toward a minimum cost.\n",
    "\n",
    "![7.jpg](attachment:7.jpg)\n",
    "\n",
    "- **Updating the Weight**:\n",
    "  \n",
    "  We update \\( w \\) using the following rule:\n",
    "  \n",
    "  $$\n",
    "  w := w - \\text{step}\n",
    "  $$\n",
    "\n",
    "  Here, the **step** is determined by the **slope** (derivative) of the cost function with respect to \\( w \\) at the current point.\n",
    "\n",
    "- **Finding the Minimum Point Using the Slope**:\n",
    "  \n",
    "  - Suppose the slope at this point (`slope1`) is \\( 3 \\). We update \\( w \\) using \\( w := w - \\text{slope1} \\), so \\( w \\) becomes \\( 2 \\).\n",
    "  - Now, after updating \\( w \\) to \\( 2 \\) and performing another forward propagation, we find that the cost has decreased to \\( 0.4 \\). This means we’re moving in the right direction, as the cost is decreasing.\n",
    "  \n",
    "- **Repeating the Steps**:\n",
    "  \n",
    "  We continue this process:\n",
    "  \n",
    "  - The next slope (`slope2`) is \\( 0.7 \\), and updating \\( w := w - \\text{slope2} \\) gives \\( w = 1.3 \\).\n",
    "  - After another forward propagation, the cost decreases to \\( 0.3 \\).\n",
    "  \n",
    "  At this point, our cost has decreased further, and we are getting closer to the minimum.\n",
    "\n",
    "- **Reaching the Minimum**:\n",
    "  \n",
    "  When the slope becomes very small (e.g., `slope3 = 0.01`), updating \\( w \\) does not significantly change its value. This indicates that we’ve reached or are close to the minimum cost, as the weight no longer needs significant adjustment.\n",
    "\n",
    "---\n",
    "\n",
    "#### 3. Understanding the Slope and Direction\n",
    "\n",
    "The **slope** (or derivative) of the cost function at a given point indicates both:\n",
    "- The **step size** for the update.\n",
    "- The **direction** to move in (positive or negative).\n",
    "\n",
    "This way, the slope tells us both how far and in which direction to adjust \\( w \\) to reach a lower cost. The derivative ensures that we move toward the minimum rather than increasing the cost.\n",
    "\n",
    "---\n",
    "\n",
    "#### 4. The Update Equation\n",
    "\n",
    "The update equation for gradient descent is given by:\n",
    "\n",
    "$$\n",
    "w := w - \\alpha \\frac{\\partial J}{\\partial w}\n",
    "$$\n",
    "\n",
    "where:\n",
    "- $ J $ is the cost function.\n",
    "- $\\frac{\\partial J}{\\partial w}$ is the derivative of the cost function with respect to \\( w \\).\n",
    "- $ \\alpha $ is the **learning rate**, which controls how large each update step is.\n",
    "\n",
    "The same update rule applies to the **bias** term, using its own derivative.\n",
    "\n",
    "---\n",
    "\n",
    "#### 5. Learning Rate (α)\n",
    "\n",
    "The **learning rate** $\\alpha $ is a critical parameter in gradient descent. It determines how fast the model learns. There is a tradeoff:\n",
    "- A **small learning rate** makes the model learn slowly, potentially requiring many iterations to reach the minimum.\n",
    "- A **large learning rate** can make the model converge quickly, but it risks overshooting the minimum and may fail to find it altogether.\n",
    "\n",
    "In our example, we might set $\\alpha = 1 $ to keep the updates manageable. Choosing an appropriate learning rate is crucial, as it directly impacts the model's ability to learn.\n",
    "\n",
    "---\n",
    "\n",
    "#### 6. Forward and Backward Propagation\n",
    "\n",
    "Now we understand the two main steps:\n",
    "- **Forward Propagation**: From weights and bias to the cost, where we calculate predictions and measure error.\n",
    "- **Backward Propagation**: From cost to weights and bias, where we update these parameters using gradient descent.\n",
    "\n",
    "Together, forward and backward propagation enable the model to improve over time.\n",
    "\n",
    "---\n",
    "\n",
    "#### Derivative of the Cost Function with Respect to Weights and Bias\n",
    "\n",
    "To calculate the derivative of the cost function, we can use either:\n",
    "1. Google how to take the derivative of the log loss function.\n",
    "2. Look up the derivative directly.\n",
    "\n",
    "The derivatives are:\n",
    "\n",
    "$$\n",
    "\\frac{\\partial J}{\\partial w} = \\frac{1}{m} x (y\\_head - y)^T\n",
    "$$\n",
    "\n",
    "$$\n",
    "\\frac{\\partial J}{\\partial b} = \\frac{1}{m} \\sum_{i=1}^{m} (y\\_head - y)\n",
    "$$\n",
    "\n",
    "where:\n",
    "- \\( y \\) is the true label.\n",
    "- \\( y\\_head \\) is the predicted probability.\n",
    "- \\( m \\) is the number of training examples.\n",
    "\n",
    "Using these derivatives, we can apply gradient descent to update \\( w \\) and \\( b \\) in a direction that minimizes the cost."
   ]
  },
  {
   "cell_type": "code",
   "execution_count": 13,
   "metadata": {},
   "outputs": [],
   "source": [
    "def forward_backward_propagation(w, b, x_train, y_train):\n",
    "    # forward propagation\n",
    "    z = np.dot(w.T, x_train) + b\n",
    "    y_head = sigmoid(z)\n",
    "    loss = -y_train*np.log(y_head)-(1-y_train)*np.log(1-y_head)\n",
    "    cost = (np.sum(loss))/x_train.shape[1] # x_train.shape[1]  is for scaling\n",
    "    # backward propagation\n",
    "    derivative_weight = (np.dot(x_train,((y_head-y_train).T)))/x_train.shape[1] # x_train.shape[1]  is for scaling\n",
    "    derivative_bias = np.sum(y_head-y_train)/x_train.shape[1] # x_train.shape[1]  is for scaling\n",
    "    gradients = {\"derivative_weight\": derivative_weight, \"derivative_bias\": derivative_bias}\n",
    "    return cost, gradients"
   ]
  },
  {
   "cell_type": "code",
   "execution_count": 14,
   "metadata": {},
   "outputs": [],
   "source": [
    "# Updating(learning) parameters\n",
    "def update(w, b, x_train, y_train, learning_rate,number_of_iterarion):\n",
    "    cost_list = []\n",
    "    cost_list2 = []\n",
    "    index = []\n",
    "    # updating(learning) parameters is number_of_iterarion times\n",
    "    for i in range(number_of_iterarion):\n",
    "        # make forward and backward propagation and find cost and gradients\n",
    "        cost,gradients = forward_backward_propagation(w,b,x_train,y_train)\n",
    "        cost_list.append(cost)\n",
    "        # lets update\n",
    "        w = w - learning_rate * gradients[\"derivative_weight\"]\n",
    "        b = b - learning_rate * gradients[\"derivative_bias\"]\n",
    "        if i % 10 == 0:\n",
    "            cost_list2.append(cost)\n",
    "            index.append(i)\n",
    "            print (\"Cost after iteration %i: %f\" %(i, cost))\n",
    "    # we update(learn) parameters weights and bias\n",
    "    parameters = {\"weight\": w,\"bias\": b}\n",
    "    plt.plot(index,cost_list2)\n",
    "    plt.xticks(index,rotation='vertical')\n",
    "    plt.xlabel(\"Number of Iterarion\")\n",
    "    plt.ylabel(\"Cost\")\n",
    "    plt.show()\n",
    "    return parameters, gradients, cost_list"
   ]
  },
  {
   "cell_type": "code",
   "execution_count": 15,
   "metadata": {},
   "outputs": [],
   "source": [
    "# prediction\n",
    "def predict(w,b,x_test):\n",
    "    # x_test is a input for forward propagation\n",
    "    z = sigmoid(np.dot(w.T,x_test)+b)\n",
    "    Y_prediction = np.zeros((1,x_test.shape[1]))\n",
    "    # if z is bigger than 0.5, our prediction is sign one (y_head=1),\n",
    "    # if z is smaller than 0.5, our prediction is sign zero (y_head=0),\n",
    "    for i in range(z.shape[1]):\n",
    "        if z[0,i]<= 0.5:\n",
    "            Y_prediction[0,i] = 0\n",
    "        else:\n",
    "            Y_prediction[0,i] = 1\n",
    "\n",
    "    return Y_prediction"
   ]
  },
  {
   "cell_type": "markdown",
   "metadata": {},
   "source": [
    "Putting everything together"
   ]
  },
  {
   "cell_type": "code",
   "execution_count": 16,
   "metadata": {},
   "outputs": [
    {
     "name": "stdout",
     "output_type": "stream",
     "text": [
      "Cost after iteration 0: 14.014222\n",
      "Cost after iteration 10: 2.544689\n",
      "Cost after iteration 20: 2.577950\n",
      "Cost after iteration 30: 2.397999\n",
      "Cost after iteration 40: 2.185019\n",
      "Cost after iteration 50: 1.968348\n",
      "Cost after iteration 60: 1.754195\n",
      "Cost after iteration 70: 1.535079\n",
      "Cost after iteration 80: 1.297567\n",
      "Cost after iteration 90: 1.031919\n",
      "Cost after iteration 100: 0.737019\n",
      "Cost after iteration 110: 0.441355\n",
      "Cost after iteration 120: 0.252278\n",
      "Cost after iteration 130: 0.205168\n",
      "Cost after iteration 140: 0.196168\n"
     ]
    },
    {
     "data": {
      "image/png": "[encoded data removed]",
      "text/plain": [
       "<Figure size 640x480 with 1 Axes>"
      ]
     },
     "metadata": {},
     "output_type": "display_data"
    },
    {
     "name": "stdout",
     "output_type": "stream",
     "text": [
      "train accuracy: 92.816091954023 %\n",
      "test accuracy: 93.54838709677419 %\n"
     ]
    }
   ],
   "source": [
    "def logistic_regression(x_train, y_train, x_test, y_test, learning_rate ,  num_iterations):\n",
    "    # initialize\n",
    "    dimension =  x_train.shape[0]  # that is 4096\n",
    "    w,b = initialize_weights_and_bias(dimension)\n",
    "    # do not change learning rate\n",
    "    parameters, gradients, cost_list = update(w, b, x_train, y_train, learning_rate,num_iterations)\n",
    "    \n",
    "    y_prediction_test = predict(parameters[\"weight\"],parameters[\"bias\"],x_test)\n",
    "    y_prediction_train = predict(parameters[\"weight\"],parameters[\"bias\"],x_train)\n",
    "\n",
    "    # Print train/test Errors\n",
    "    print(\"train accuracy: {} %\".format(100 - np.mean(np.abs(y_prediction_train - y_train)) * 100))\n",
    "    print(\"test accuracy: {} %\".format(100 - np.mean(np.abs(y_prediction_test - y_test)) * 100))\n",
    "    \n",
    "logistic_regression(x_train, y_train, x_test, y_test,learning_rate = 0.01, num_iterations = 150)"
   ]
  },
  {
   "cell_type": "markdown",
   "metadata": {},
   "source": [
    "## SkLearn"
   ]
  },
  {
   "cell_type": "markdown",
   "metadata": {},
   "source": [
    "We already implemented everything from scratch, but we can also make use of sklearn library and implement it easily."
   ]
  },
  {
   "cell_type": "code",
   "execution_count": 17,
   "metadata": {},
   "outputs": [
    {
     "name": "stdout",
     "output_type": "stream",
     "text": [
      "test accuracy: 0.967741935483871 \n",
      "train accuracy: 1.0 \n"
     ]
    }
   ],
   "source": [
    "from sklearn import linear_model\n",
    "logreg = linear_model.LogisticRegression(random_state = 42,max_iter=150)\n",
    "print(\"test accuracy: {} \".format(logreg.fit(x_train.T, y_train.T).score(x_test.T, y_test.T)))\n",
    "\n",
    "print(\"train accuracy: {} \".format(logreg.fit(x_train.T, y_train.T).score(x_train.T, y_train.T)))"
   ]
  },
  {
   "cell_type": "markdown",
   "metadata": {},
   "source": [
    "The results are better because, in the sklearn code, the logisitc regression method uses a lot of different features that we didn't specifed in the previous part."
   ]
  },
  {
   "cell_type": "markdown",
   "metadata": {},
   "source": [
    "# Artificial Neural Networks (ANNs)"
   ]
  },
  {
   "cell_type": "markdown",
   "metadata": {},
   "source": [
    "\n",
    "\n",
    "An Artificial Neural Network (ANN), often called a **Deep Neural Network (DNN)** or simply **Deep Learning**, is an extension of logistic regression. It builds on the basic idea of logistic regression by stacking multiple layers of computation to enable more complex learning.\n",
    "\n",
    "---\n",
    "\n",
    "#### 1. What is a Neural Network?\n",
    "\n",
    "A **neural network** can be seen as a series of logistic regression models layered together. In logistic regression, we have only **input** and **output layers**. However, in a neural network, we add at least one **hidden layer** between the input and output layers.\n",
    "\n",
    "In a neural network:\n",
    "- The **input layer** takes in the features of the data (e.g., pixels of an image).\n",
    "- The **output layer** provides the final prediction (e.g., classifying an image).\n",
    "- **Hidden layers** (one or more) are intermediate layers where the model learns more abstract representations.\n",
    "\n",
    "---\n",
    "\n",
    "#### 2. What Makes a Network \"Deep\"?\n",
    "\n",
    "The term **\"deep\"** refers to the number of hidden layers in a neural network. Historically, networks with just a few hidden layers (two or three) were considered deep. However, as computational power has increased, neural networks with dozens or even hundreds of hidden layers have become feasible.\n",
    "\n",
    "- For example, 20 layers was once considered very deep. Today, commercial networks like those developed by Andrew Ng have **152 layers** or even more.\n",
    "- Some companies have even experimented with networks containing **thousands of layers**.\n",
    "\n",
    "The depth of a neural network is a relative term, and \"deep\" simply means a network with multiple hidden layers.\n",
    "\n",
    "---\n",
    "\n",
    "#### 3. Why Are They Called \"Hidden\" Layers?\n",
    "\n",
    "The layers between the input and output are called **hidden layers** because they do not directly interact with the input data or the final output. Instead, they receive inputs from the previous layer and pass their outputs to the next layer. The model learns patterns in these hidden layers that aren't visible to the input or output directly.\n",
    "\n",
    "- For example, if you have an input layer, one hidden layer, and an output layer, your network is considered to have **2 layers** (one hidden layer and one output layer).\n",
    "- **Note**: When counting layers in a neural network, the input layer is typically not counted.\n",
    "\n",
    "---\n",
    "\n",
    "#### 4. Structure of a Simple 2-Layer Neural Network\n",
    "\n",
    "Let’s take a look at a **2-layer neural network** with one hidden layer.\n",
    "\n",
    "- **Input Layer**: This layer takes in the raw input data.\n",
    "- **Hidden Layer**: This intermediate layer consists of **nodes** (or **neurons**), which process the data from the input layer. In this example, our hidden layer has **3 nodes**. (Choosing the number of nodes is arbitrary and is considered a **hyperparameter**.)\n",
    "- **Output Layer**: This layer produces the final output (e.g., probability of classification).\n",
    "\n",
    "---\n",
    "\n",
    "#### 5. Activation Functions and Non-Linearity\n",
    "\n",
    "In neural networks, each layer has an **activation function** that introduces **non-linearity** to the model. Non-linearity allows the network to learn complex patterns beyond simple linear relationships. \n",
    "\n",
    "- In **logistic regression**, we use the **sigmoid activation function** in the output layer to convert values to probabilities.\n",
    "- In **hidden layers of neural networks**, the **tanh activation function** is commonly used. \n",
    "\n",
    "The **tanh function** is preferred in hidden layers because:\n",
    "- It **centers the output around zero**, which helps the next layer learn more effectively.\n",
    "- It enhances the non-linearity of the model, allowing it to learn better and capture more complex relationships.\n",
    "\n",
    "The tanh function is defined as:\n",
    "\n",
    "$$\n",
    "\\text{tanh}(z) = \\frac{e^z - e^{-z}}{e^z + e^{-z}}\n",
    "$$\n",
    "\n",
    "---\n",
    "\n",
    "#### 6. Comparing Logistic Regression and a 2-Layer Neural Network\n",
    "\n",
    "In **logistic regression**, we have a direct flow: `input => output`. The input features are transformed directly into an output.\n",
    "\n",
    "In a **2-layer neural network**, we have an additional hidden layer:\n",
    "- The data flows from `input => hidden layer => output`.\n",
    "- You can think of the hidden layer as the **output** of the first part and the **input** for the second part.\n",
    "\n",
    "In essence:\n",
    "- Part 1 (input to hidden layer) and Part 2 (hidden layer to output) each function similarly to logistic regression. The only difference is that now we have an activation function (e.g., tanh) in the hidden layer, which adds non-linearity and enhances the model's learning capacity.\n",
    "\n",
    "---\n",
    "\n",
    "#### 7. Hyperparameters in Neural Networks\n",
    "\n",
    "In neural networks, several parameters are not learned during training but are instead set manually. These are known as **hyperparameters**. Examples include:\n",
    "- **Learning Rate**: Controls the size of the steps taken during gradient descent.\n",
    "- **Number of Nodes**: Specifies how many nodes (or neurons) are in each hidden layer.\n",
    "- **Number of Layers**: Determines the depth of the network.\n",
    "\n",
    "Choosing the right values for these hyperparameters is crucial for the model’s performance, and they are typically fine-tuned based on the problem.\n",
    "\n",
    "---\n",
    "\n",
    "In summary, an artificial neural network is like stacking multiple logistic regression models together with hidden layers and non-linear activation functions. The presence of hidden layers and non-linear activations allows neural networks to learn complex patterns and make more accurate predictions for complex data."
   ]
  },
  {
   "cell_type": "markdown",
   "metadata": {},
   "source": [
    "### Building a 2-Layer Neural Network\n",
    "\n",
    "To construct a 2-layer neural network, we’ll go through the key steps:\n",
    "1. **Define the size of each layer and initialize weights and biases**\n",
    "2. **Perform forward propagation**\n",
    "3. **Calculate the loss and cost functions**\n",
    "4. **Apply backward propagation**\n",
    "5. **Update parameters**\n",
    "6. **Make predictions with the learned weights and biases**\n",
    "7. **Create the complete model**\n",
    "\n",
    "---\n",
    "\n",
    "#### 1. Size of Layers and Initializing Parameters (Weights and Bias)\n",
    "\n",
    "In this example, our input dataset `x_train` contains **348 samples** with multiple features per sample. Here’s how the data flows through the network:\n",
    "\n",
    "- **Input Layer**: Each input sample is represented by $x(348)$, which is the input data for the 348 samples.\n",
    "  \n",
    "- **First Hidden Layer**:\n",
    "  - **Linear Combination**: $z^{[1]}(348) = W^{[1]} x(348) + b^{[1]}(348)$\n",
    "  - **Activation**: $a^{[1]}(348) = \\text{tanh}(z^{[1]}(348))$\n",
    "  \n",
    "- **Output Layer**:\n",
    "  - **Linear Combination**: $z^{[2]}(348) = W^{[2]} a^{[1]}(348) + b^{[2]}(348)$\n",
    "  - **Activation (Sigmoid)**: $\\hat{y}(348) = a^{[2]}(348) = \\sigma(z^{[2]}(348))$\n",
    "\n",
    "The final output, $\\hat{y}(348)$, is the network’s prediction for each sample in `x_train`.\n",
    "\n",
    "---\n",
    "\n",
    "#### 2. Initializing Parameters for Weights and Bias\n",
    "\n",
    "In logistic regression, we initialize weights to **0.01** and bias to **0**. However, for neural networks, we use a different strategy for initialization:\n",
    "\n",
    "- **Random Initialization for Weights**:\n",
    "  - If weights are initialized to zero, each neuron in the hidden layer will compute the same values, leading to redundant learning where neurons perform identical computations.\n",
    "  - By initializing weights randomly, each neuron receives a unique starting point, allowing it to learn distinct features during training.\n",
    "  \n",
    "- **Small Initial Values**:\n",
    "  - Initial weights are chosen to be small. Large initial weights can lead to high values in the hidden layer, especially when passed through the **tanh** activation function. High values in the `tanh` function make the gradient close to zero, which slows down the optimization process.\n",
    "  - Random, small initial weights ensure that gradients are not too small or too large, leading to more efficient training.\n",
    "\n",
    "- **Bias Initialization**:\n",
    "  - The bias terms can be initialized to zero without impacting the network’s ability to learn effectively, as they’ll adjust during training.\n",
    "\n",
    "---\n",
    "\n",
    "#### 3. Forward Propagation\n",
    "\n",
    "In forward propagation, we pass the data through the network to compute the output:\n",
    "\n",
    "1. **First Hidden Layer**:\n",
    "   - Compute $z^{[1]}$ using the input data and initial parameters:  \n",
    "     $$ z^{[1]} = W^{[1]} x + b^{[1]} $$\n",
    "   - Apply the **tanh activation** function:  \n",
    "     $$ a^{[1]} = \\text{tanh}(z^{[1]}) $$\n",
    "  \n",
    "2. **Output Layer**:\n",
    "   - Compute $z^{[2]}$ using the output of the first hidden layer:  \n",
    "     $$ z^{[2]} = W^{[2]} a^{[1]} + b^{[2]} $$\n",
    "   - Apply the **sigmoid activation** function to get the prediction $\\hat{y}$:  \n",
    "     $$ \\hat{y} = a^{[2]} = \\sigma(z^{[2]}) $$\n",
    "\n",
    "The final output $\\hat{y}$ is the probability that each sample belongs to the positive class.\n",
    "\n",
    "---\n",
    "\n",
    "#### 4. Loss Function and Cost Function\n",
    "\n",
    "After obtaining the predictions $\\hat{y}$, we calculate the **loss function** for each sample to quantify the error between predicted and actual values. The **binary cross-entropy loss** is commonly used for binary classification tasks, as it penalizes incorrect predictions.\n",
    "\n",
    "The **cost function** is the average loss over all samples in the training set:\n",
    "$$\n",
    "\\text{Cost} = \\frac{1}{m} \\sum_{i=1}^{m} \\text{Loss}(y_i, \\hat{y}_i)\n",
    "$$\n",
    "where $m$ is the number of samples in the dataset.\n",
    "\n",
    "---\n",
    "\n",
    "#### 5. Backward Propagation\n",
    "\n",
    "Backward propagation calculates the **gradients** of the cost function with respect to each weight and bias parameter. These gradients indicate the direction in which each parameter should be adjusted to minimize the cost.\n",
    "\n",
    "1. **Calculate the gradient of the cost with respect to each weight and bias**.\n",
    "2. Use these gradients to update the weights and biases, ensuring that the model learns from the error in each training step.\n",
    "\n",
    "---\n",
    "\n",
    "#### 6. Update Parameters\n",
    "\n",
    "Using the gradients calculated in backward propagation, we **update the parameters** (weights and biases) to reduce the cost. The update rule for each parameter uses **gradient descent**:\n",
    "\n",
    "$$\n",
    "W := W - \\alpha \\frac{\\partial J}{\\partial W}\n",
    "$$\n",
    "$$\n",
    "b := b - \\alpha \\frac{\\partial J}{\\partial b}\n",
    "$$\n",
    "\n",
    "where $\\alpha$ is the **learning rate**, which determines the step size for each update. Choosing the right learning rate is critical for ensuring efficient training.\n",
    "\n",
    "---\n",
    "\n",
    "#### 7. Prediction with Learned Parameters\n",
    "\n",
    "After training the model and updating parameters, we can use the final values of **weights** and **biases** to make predictions on new data. This involves:\n",
    "1. Performing forward propagation with the learned parameters.\n",
    "2. Applying a threshold to classify each sample based on the output probability $\\hat{y}$.\n",
    "\n",
    "---\n",
    "\n",
    "#### 8. Creating the Complete Model\n",
    "\n",
    "Combining all the steps, we build a **complete 2-layer neural network model**:\n",
    "1. Initialize the size of layers, weights, and biases.\n",
    "2. Perform forward propagation to calculate predictions.\n",
    "3. Compute the cost using the loss function.\n",
    "4. Apply backward propagation to compute gradients.\n",
    "5. Update parameters using gradient descent.\n",
    "6. Use the model for predictions once trained.\n",
    "\n",
    "This structure enables the neural network to learn complex patterns and make accurate predictions by iteratively adjusting its parameters to minimize the cost."
   ]
  },
  {
   "cell_type": "markdown",
   "metadata": {},
   "source": [
    "### Size of Layers and Initializing parameters weights and bias"
   ]
  },
  {
   "cell_type": "markdown",
   "metadata": {},
   "source": [
    "We initialize weights randomly this time, "
   ]
  },
  {
   "cell_type": "code",
   "execution_count": 18,
   "metadata": {},
   "outputs": [],
   "source": [
    "# initialize parameters and layer sizes\n",
    "def initialize_parameters_and_layer_sizes_NN(x_train, y_train):\n",
    "    parameters = {\"weight1\": np.random.randn(3,x_train.shape[0]) * 0.1, \"bias1\": np.zeros((3,1)), \n",
    "                  \"weight2\": np.random.randn(y_train.shape[0],3) * 0.1, \"bias2\": np.zeros((y_train.shape[0],1))}\n",
    "    \n",
    "    return parameters"
   ]
  },
  {
   "cell_type": "markdown",
   "metadata": {},
   "source": [
    "### Explanation of `initialize_parameters_and_layer_sizes_NN` Function\n",
    "\n",
    "This function, `initialize_parameters_and_layer_sizes_NN`, initializes the weights and biases for a 2-layer neural network with one hidden layer.\n",
    "\n",
    "#### Code\n",
    "```python\n",
    "# initialize parameters and layer sizes\n",
    "def initialize_parameters_and_layer_sizes_NN(x_train, y_train):\n",
    "    parameters = {\n",
    "        \"weight1\": np.random.randn(3, x_train.shape[0]) * 0.1,\n",
    "        \"bias1\": np.zeros((3, 1)),\n",
    "        \"weight2\": np.random.randn(y_train.shape[0], 3) * 0.1,\n",
    "        \"bias2\": np.zeros((y_train.shape[0], 1))\n",
    "    }\n",
    "    return parameters\n",
    "```"
   ]
  },
  {
   "cell_type": "markdown",
   "metadata": {},
   "source": [
    "#### Detailed Breakdown\n",
    "\n",
    "1. **Function Purpose**\n",
    "   - The function `initialize_parameters_and_layer_sizes_NN` initializes weights and biases for a neural network with one hidden layer and defines layer sizes based on the input (`x_train`) and output (`y_train`) data shapes.\n",
    "   - This setup is typical for a **2-layer neural network** (input layer → hidden layer → output layer).\n",
    "\n",
    "2. **Arguments: `x_train` and `y_train`**\n",
    "   - `x_train`: Training data (input features). `x_train.shape[0]` gives the number of features per training example.\n",
    "   - `y_train`: Target output (labels), where `y_train.shape[0]` provides the number of output classes.\n",
    "\n",
    "3. **Initializing Parameters in the `parameters` Dictionary**\n",
    "   - The `parameters` dictionary stores weights and biases for each layer in the neural network.\n",
    "\n",
    "   #### Layer 1 (Hidden Layer)\n",
    "   - **`\"weight1\"`**: The weight matrix for the hidden layer, initialized with small random values.\n",
    "     - `np.random.randn(3, x_train.shape[0])` generates a matrix of shape `(3, x_train.shape[0])`, where `3` is the number of neurons in the hidden layer.\n",
    "     - The values are scaled by `0.1` to keep initial weights small, aiding efficient training.\n",
    "     - Example: If `x_train` has 5 features, `weight1` would have shape `(3, 5)`, so each of the 3 hidden neurons has a weight for each of the 5 features.\n",
    "\n",
    "   - **`\"bias1\"`**: The bias vector for the hidden layer, initialized as zeros.\n",
    "     - `np.zeros((3, 1))` creates a column vector of zeros with shape `(3, 1)`, assigning each neuron in the hidden layer its own bias term.\n",
    "\n",
    "   #### Layer 2 (Output Layer)\n",
    "   - **`\"weight2\"`**: The weight matrix for the output layer, also initialized with small random values.\n",
    "     - `np.random.randn(y_train.shape[0], 3)` generates a matrix of shape `(y_train.shape[0], 3)`, where `y_train.shape[0]` is the number of output classes, and `3` is the number of neurons in the hidden layer.\n",
    "     - Example: If `y_train` has 2 output classes, `weight2` will have shape `(2, 3)`, connecting each output neuron to each of the 3 neurons in the hidden layer.\n",
    "\n",
    "   - **`\"bias2\"`**: The bias vector for the output layer, initialized as zeros.\n",
    "     - `np.zeros((y_train.shape[0], 1))` creates a column vector of zeros with shape `(y_train.shape[0], 1)`.\n",
    "\n",
    "4. **Return Statement**\n",
    "   - `return parameters`: Returns the dictionary `parameters`, which contains the initialized weights and biases for both layers. This dictionary is used during forward and backward propagation in the neural network.\n"
   ]
  },
  {
   "cell_type": "markdown",
   "metadata": {},
   "source": [
    "### Forward Propagation"
   ]
  },
  {
   "cell_type": "markdown",
   "metadata": {},
   "source": [
    "Here we use $\\tanh$ function"
   ]
  },
  {
   "cell_type": "code",
   "execution_count": 19,
   "metadata": {},
   "outputs": [],
   "source": [
    "def forward_propagation_NN(x_train, parameters):\n",
    "    Z1 = np.dot(parameters[\"weight1\"],x_train) +parameters[\"bias1\"]\n",
    "    A1 = np.tanh(Z1)\n",
    "    Z2 = np.dot(parameters[\"weight2\"],A1) + parameters[\"bias2\"]\n",
    "    A2 = sigmoid(Z2)\n",
    "    \n",
    "    cache = {\"Z1\": Z1, \"A1\": A1, \"Z2\": Z2, \"A2\": A2}\n",
    "    \n",
    "    return A2, cache"
   ]
  },
  {
   "cell_type": "markdown",
   "metadata": {},
   "source": [
    "### Explanation of `forward_propagation_NN` Function\n",
    "\n",
    "The `forward_propagation_NN` function performs the forward propagation step in a 2-layer neural network, taking `x_train` and initialized `parameters` as input. It calculates the activations for the hidden and output layers and stores intermediate values for later use in backpropagation.\n",
    "\n",
    "#### Detailed Breakdown\n",
    "\n",
    "1. **Input Parameters**:\n",
    "   - `x_train`: The input data for training, where each column represents a training example, and each row represents a feature.\n",
    "   - `parameters`: A dictionary containing the initialized weights and biases:\n",
    "     - `\"weight1\"` and `\"bias1\"` for the hidden layer.\n",
    "     - `\"weight2\"` and `\"bias2\"` for the output layer.\n",
    "\n",
    "2. **Hidden Layer Computation**:\n",
    "   - **Linear Transformation** (`Z1`): \n",
    "     - `Z1` is computed by taking the dot product of the weights for the hidden layer (`\"weight1\"`) and the input data (`x_train`), then adding the hidden layer bias (`\"bias1\"`).\n",
    "     - `Z1` represents the weighted input for each neuron in the hidden layer before applying the activation function.\n",
    "   \n",
    "   - **Activation Function** (`A1`):\n",
    "     - The `tanh` activation function is applied to `Z1` to get `A1`, which is the activated output of the hidden layer neurons.\n",
    "     - `A1` introduces non-linearity, enabling the model to capture complex relationships.\n",
    "\n",
    "3. **Output Layer Computation**:\n",
    "   - **Linear Transformation** (`Z2`): \n",
    "     - `Z2` is computed by taking the dot product of the weights for the output layer (`\"weight2\"`) and the activated outputs from the hidden layer (`A1`), then adding the output layer bias (`\"bias2\"`).\n",
    "     - `Z2` is the weighted input to the output layer neurons before applying the activation function.\n",
    "   \n",
    "   - **Activation Function** (`A2`):\n",
    "     - The `sigmoid` activation function is applied to `Z2`, producing `A2`, the final output of the neural network.\n",
    "     - `A2` is the predicted probability for each training example and is typically between 0 and 1 due to the sigmoid function, which is useful for binary classification.\n",
    "\n",
    "4. **Caching Intermediate Values**:\n",
    "   - The function creates a dictionary called `cache` to store intermediate values (`Z1`, `A1`, `Z2`, `A2`) needed for backpropagation.\n",
    "   - **Cache**:\n",
    "     - `\"Z1\"` and `\"A1\"` are the weighted input and activated output for the hidden layer.\n",
    "     - `\"Z2\"` and `\"A2\"` are the weighted input and activated output for the output layer.\n",
    "\n",
    "5. **Return Values**:\n",
    "   - `A2`: The final output of the neural network, which represents the predicted probability for each training example.\n",
    "   - `cache`: A dictionary containing `Z1`, `A1`, `Z2`, and `A2`, to be used in the backpropagation step for calculating gradients.\n",
    "\n"
   ]
  },
  {
   "cell_type": "markdown",
   "metadata": {},
   "source": [
    "### Loss Function and Cost Function\n",
    "\n",
    "$$ J(\\theta) = -\\sum_i y_i \\ln (\\hat{y_i})$$"
   ]
  },
  {
   "cell_type": "code",
   "execution_count": 20,
   "metadata": {},
   "outputs": [],
   "source": [
    "def compute_cost_NN(A2, Y, parameters):\n",
    "    logprobs = np.multiply(np.log(A2),Y)\n",
    "    cost = -np.sum(logprobs)/Y.shape[1]\n",
    "    return cost"
   ]
  },
  {
   "cell_type": "markdown",
   "metadata": {},
   "source": [
    "### Explanation of `compute_cost_NN` Function\n",
    "\n",
    "The `compute_cost_NN` function calculates the cost of the predictions generated by the neural network, using a binary cross-entropy cost function. This cost represents the error between the predicted values (`A2`) and the actual labels (`Y`) and is used to guide the optimization process in training.\n",
    "\n",
    "#### Detailed Breakdown\n",
    "\n",
    "1. **Input Parameters**:\n",
    "   - `A2`: The output from the neural network's forward propagation step, representing the predicted probabilities for each example.\n",
    "   - `Y`: The true labels for each example in the dataset, where each element is either 0 or 1.\n",
    "   - `parameters`: This parameter is present here to maintain consistency with other functions, though it’s not used in the computation of the cost.\n",
    "\n",
    "2. **Computing Logarithmic Probabilities (`logprobs`)**:\n",
    "   - The binary cross-entropy cost function includes the term `Y * log(A2)`, which penalizes large differences between the predicted probabilities and the true labels.\n",
    "   - `np.log(A2)` calculates the logarithm of each predicted probability.\n",
    "   - `np.multiply(np.log(A2), Y)` performs element-wise multiplication of `Y` and `np.log(A2)`, giving the correct log probability contribution for each sample based on its true label.\n",
    "   - This step effectively applies the penalty where `Y` is 1, as only the terms corresponding to the true class contribute to the cost in binary classification.\n",
    "\n",
    "3. **Calculating the Cost (`cost`)**:\n",
    "   - The `cost` is computed by taking the negative sum of `logprobs` and dividing by the number of examples, `Y.shape[1]`, to get the average cost across all examples.\n",
    "   - The negative sign ensures that the cost is positive, as the logarithmic probabilities are negative for probabilities less than 1.\n",
    "   - The formula for `cost` is effectively the binary cross-entropy loss averaged across the dataset.\n",
    "\n",
    "4. **Return Value**:\n",
    "   - The function returns `cost`, a scalar value representing the average error in the network's predictions. A lower cost indicates better performance by the neural network on the given dataset."
   ]
  },
  {
   "cell_type": "markdown",
   "metadata": {},
   "source": [
    "### Backward Propagation"
   ]
  },
  {
   "cell_type": "markdown",
   "metadata": {},
   "source": [
    "It basically means derivative"
   ]
  },
  {
   "cell_type": "code",
   "execution_count": 21,
   "metadata": {},
   "outputs": [],
   "source": [
    "def backward_propagation_NN(parameters, cache, X,Y):\n",
    "\n",
    "    dZ2 = cache[\"A2\"]-Y\n",
    "    dW2 = np.dot(dZ2,cache[\"A1\"].T)/X.shape[1]\n",
    "    db2 = np.sum(dZ2,axis =1,keepdims=True)/X.shape[1]\n",
    "    dZ1 = np.dot(parameters[\"weight2\"].T,dZ2)*(1 - np.power(cache[\"A1\"], 2))\n",
    "    dW1 = np.dot(dZ1,X.T)/X.shape[1]\n",
    "    db1 = np.sum(dZ1,axis =1,keepdims=True)/X.shape[1]\n",
    "    grads = {\"dweight1\": dW1, \"dbias1\": db1, \"dweight2\": dW2, \"dbias2\": db2}\n",
    "\n",
    "    return grads"
   ]
  },
  {
   "cell_type": "markdown",
   "metadata": {},
   "source": [
    "### Explanation of `backward_propagation_NN` Function\n",
    "\n",
    "The `backward_propagation_NN` function computes the gradients of the cost function with respect to the weights and biases of a 2-layer neural network. These gradients are used to update the weights and biases during training, allowing the network to minimize the cost and improve predictions.\n",
    "\n",
    "#### Detailed Breakdown\n",
    "\n",
    "1. **Input Parameters**:\n",
    "   - `parameters`: A dictionary containing the current weights and biases for each layer of the network:\n",
    "     - `\"weight1\"` and `\"bias1\"` for the hidden layer.\n",
    "     - `\"weight2\"` and `\"bias2\"` for the output layer.\n",
    "   - `cache`: A dictionary of intermediate values (`Z1`, `A1`, `Z2`, `A2`) from the forward propagation step, which are required for calculating gradients.\n",
    "   - `X`: The input data, where each column represents a training example.\n",
    "   - `Y`: The true labels corresponding to `X`.\n",
    "\n",
    "2. **Gradients for Output Layer (Layer 2)**:\n",
    "   - **Error Term (`dZ2`)**:\n",
    "     - `dZ2` represents the gradient of the cost with respect to `Z2`, the weighted input to the output layer.\n",
    "     - `dZ2` is calculated as the difference between the predicted output (`cache[\"A2\"]`) and the actual output (`Y`). This difference measures the error in the output layer.\n",
    "   \n",
    "   - **Gradient of Weight (`dW2`)**:\n",
    "     - `dW2` is the gradient of the cost with respect to the weights of the output layer.\n",
    "     - It is calculated by taking the dot product of `dZ2` and the transpose of the activated output from the hidden layer (`cache[\"A1\"].T`), and dividing by the number of examples (`X.shape[1]`).\n",
    "     - This step averages the gradient across all training examples.\n",
    "   \n",
    "   - **Gradient of Bias (`db2`)**:\n",
    "     - `db2` is the gradient of the cost with respect to the bias of the output layer.\n",
    "     - It is computed by summing `dZ2` across all training examples (axis=1) and keeping the dimension consistent with the bias term (`keepdims=True`), then dividing by the number of examples.\n",
    "     - This gives the average bias gradient across all examples.\n",
    "\n",
    "3. **Gradients for Hidden Layer (Layer 1)**:\n",
    "   - **Error Term (`dZ1`)**:\n",
    "     - `dZ1` is the gradient of the cost with respect to `Z1`, the weighted input to the hidden layer.\n",
    "     - It is calculated by taking the dot product of the transpose of `weight2` and `dZ2`, then multiplying element-wise by the derivative of the `tanh` activation function applied to `Z1`.\n",
    "     - The derivative of `tanh(Z1)` is `1 - A1^2`, where `A1` is the activation output from the hidden layer. This derivative adjusts `dZ1` to account for the non-linear activation.\n",
    "   \n",
    "   - **Gradient of Weight (`dW1`)**:\n",
    "     - `dW1` is the gradient of the cost with respect to the weights of the hidden layer.\n",
    "     - It is computed by taking the dot product of `dZ1` and the transpose of `X`, then dividing by the number of examples to get the average gradient.\n",
    "   \n",
    "   - **Gradient of Bias (`db1`)**:\n",
    "     - `db1` is the gradient of the cost with respect to the bias of the hidden layer.\n",
    "     - It is calculated by summing `dZ1` across all training examples, keeping dimensions consistent with the bias term, and dividing by the number of examples.\n",
    "\n",
    "4. **Storing Gradients in `grads` Dictionary**:\n",
    "   - The gradients for weights and biases in both layers are stored in a dictionary called `grads`:\n",
    "     - `\"dweight1\"` and `\"dbias1\"` store the gradients for the hidden layer.\n",
    "     - `\"dweight2\"` and `\"dbias2\"` store the gradients for the output layer.\n",
    "\n",
    "5. **Return Value**:\n",
    "   - The function returns `grads`, which contains the calculated gradients needed to update the weights and biases of the network during the training process."
   ]
  },
  {
   "cell_type": "markdown",
   "metadata": {},
   "source": [
    "### Update Parameters"
   ]
  },
  {
   "cell_type": "code",
   "execution_count": 22,
   "metadata": {},
   "outputs": [],
   "source": [
    "# update parameters\n",
    "def update_parameters_NN(parameters, grads, learning_rate = 0.01):\n",
    "    parameters = {\"weight1\": parameters[\"weight1\"]-learning_rate*grads[\"dweight1\"],\n",
    "                  \"bias1\": parameters[\"bias1\"]-learning_rate*grads[\"dbias1\"],\n",
    "                  \"weight2\": parameters[\"weight2\"]-learning_rate*grads[\"dweight2\"],\n",
    "                  \"bias2\": parameters[\"bias2\"]-learning_rate*grads[\"dbias2\"]}\n",
    "        \n",
    "    \n",
    "    return parameters"
   ]
  },
  {
   "cell_type": "markdown",
   "metadata": {},
   "source": [
    "### Explanation of `update_parameters_NN` Function\n",
    "\n",
    "The `update_parameters_NN` function updates the weights and biases of a 2-layer neural network using the gradients calculated from backpropagation. This step is essential for training the neural network, as it adjusts the parameters to reduce the cost.\n",
    "\n",
    "#### Detailed Breakdown\n",
    "\n",
    "1. **Input Parameters**:\n",
    "   - `parameters`: A dictionary containing the current weights and biases of the network:\n",
    "     - `\"weight1\"` and `\"bias1\"` for the hidden layer.\n",
    "     - `\"weight2\"` and `\"bias2\"` for the output layer.\n",
    "   - `grads`: A dictionary containing the gradients for each parameter, calculated during backpropagation:\n",
    "     - `\"dweight1\"` and `\"dbias1\"` are the gradients for the hidden layer's weights and biases.\n",
    "     - `\"dweight2\"` and `\"dbias2\"` are the gradients for the output layer's weights and biases.\n",
    "   - `learning_rate`: A hyperparameter that controls the size of the update step. A small learning rate results in gradual updates, while a larger learning rate results in more significant changes to the parameters.\n",
    "\n",
    "2. **Updating Parameters for Each Layer**:\n",
    "   - The function updates the weights and biases by subtracting the product of the learning rate and the respective gradient from the current values of each parameter. This moves the parameters in the direction that reduces the cost.\n",
    "\n",
    "   #### Layer 1 (Hidden Layer)\n",
    "   - **`\"weight1\"`**:\n",
    "     - The updated weight for the hidden layer is calculated as:\n",
    "       $$ \\text{weight1} := \\text{weight1} - \\text{learning\\_rate} \\times \\text{dweight1} $$\n",
    "     - This updates `\"weight1\"` based on its gradient (`dweight1`) scaled by the learning rate.\n",
    "   - **`\"bias1\"`**:\n",
    "     - The updated bias for the hidden layer is calculated as:\n",
    "       $$ \\text{bias1} := \\text{bias1} - \\text{learning\\_rate} \\times \\text{dbias1} $$\n",
    "     - This updates `\"bias1\"` based on its gradient (`dbias1`) scaled by the learning rate.\n",
    "\n",
    "#### Layer 2 (Output Layer)\n",
    "   - **`\"weight2\"`**:\n",
    "     - The updated weight for the output layer is calculated as:\n",
    "       $$ \\text{weight2} := \\text{weight2} - \\text{learning\\_rate} \\times \\text{dweight2} $$\n",
    "     - This updates `\"weight2\"` based on its gradient (`dweight2`) scaled by the learning rate.\n",
    "   - **`\"bias2\"`**:\n",
    "     - The updated bias for the output layer is calculated as:\n",
    "       $$ \\text{bias2} := \\text{bias2} - \\text{learning\\_rate} \\times \\text{dbias2} $$\n",
    "     - This updates `\"bias2\"` based on its gradient (`dbias2`) scaled by the learning rate.\n",
    "\n",
    "3. **Return Value**:\n",
    "   - The function returns an updated `parameters` dictionary, which contains the new values for `\"weight1\"`, `\"bias1\"`, `\"weight2\"`, and `\"bias2\"` after applying the gradient descent step. These updated parameters are used in the next forward propagation pass to improve the model's predictions."
   ]
  },
  {
   "cell_type": "markdown",
   "metadata": {},
   "source": [
    "### Prediction with Learnt parameters weight and bias"
   ]
  },
  {
   "cell_type": "code",
   "execution_count": 23,
   "metadata": {},
   "outputs": [],
   "source": [
    "# prediction\n",
    "\n",
    "def predict_NN(parameters,x_test):\n",
    "    A2, cache = forward_propagation_NN(x_test,parameters)\n",
    "    Y_prediction = np.zeros((1,x_test.shape[1]))\n",
    "    for i in range(A2.shape[1]):\n",
    "        if A2[0,i]<= 0.5:\n",
    "            Y_prediction[0,i] = 0\n",
    "        else:\n",
    "            Y_prediction[0,i] = 1\n",
    "\n",
    "    return Y_prediction"
   ]
  },
  {
   "cell_type": "markdown",
   "metadata": {},
   "source": [
    "### Explanation of `predict_NN` Function\n",
    "\n",
    "The `predict_NN` function makes predictions for a given test dataset (`x_test`) using the trained parameters of a 2-layer neural network. It performs forward propagation on the test data to compute predictions, then applies a threshold to classify each example.\n",
    "\n",
    "#### Detailed Breakdown\n",
    "\n",
    "1. **Input Parameters**:\n",
    "   - `parameters`: A dictionary containing the trained weights and biases for each layer of the network.\n",
    "   - `x_test`: The input data for testing, where each column represents a test example.\n",
    "\n",
    "2. **Forward Propagation**:\n",
    "   - The function calls `forward_propagation_NN` with `x_test` and `parameters` to compute the network’s output (`A2`) for each test example.\n",
    "   - `A2`: The output matrix from the forward propagation step, representing the predicted probability for each test example.\n",
    "   - `cache`: A dictionary containing intermediate values from forward propagation, though it is not used further in this function.\n",
    "\n",
    "3. **Initialize Prediction Array (`Y_prediction`)**:\n",
    "   - `Y_prediction`: An array initialized with zeros and shaped as `(1, x_test.shape[1])`, where each entry will store the predicted class (0 or 1) for the corresponding test example.\n",
    "   - The shape `(1, x_test.shape[1])` matches the number of examples in `x_test`.\n",
    "\n",
    "4. **Applying the Threshold for Classification**:\n",
    "   - The function iterates over each element in `A2`, applying a threshold of 0.5 to determine the predicted class:\n",
    "     - If `A2[0, i] <= 0.5`, the predicted class is set to `0` (indicating the example belongs to class 0).\n",
    "     - If `A2[0, i] > 0.5`, the predicted class is set to `1` (indicating the example belongs to class 1).\n",
    "   - This thresholding operation turns the probability values in `A2` into binary class predictions in `Y_prediction`, which is useful for binary classification tasks.\n",
    "\n",
    "5. **Return Value**:\n",
    "   - The function returns `Y_prediction`, a binary array where each element is either `0` or `1`, representing the predicted class for each example in `x_test`. These predictions can then be compared with the true labels to evaluate model performance."
   ]
  },
  {
   "cell_type": "markdown",
   "metadata": {},
   "source": [
    "### Create Model"
   ]
  },
  {
   "cell_type": "code",
   "execution_count": 24,
   "metadata": {},
   "outputs": [
    {
     "name": "stdout",
     "output_type": "stream",
     "text": [
      "Cost after iteration 0: 0.423551\n",
      "Cost after iteration 100: 0.304431\n",
      "Cost after iteration 200: 0.290090\n",
      "Cost after iteration 300: 0.259230\n",
      "Cost after iteration 400: 0.223029\n",
      "Cost after iteration 500: 0.190750\n",
      "Cost after iteration 600: 0.163255\n",
      "Cost after iteration 700: 0.319993\n",
      "Cost after iteration 800: 0.144702\n",
      "Cost after iteration 900: 0.139292\n",
      "Cost after iteration 1000: 0.118753\n",
      "Cost after iteration 1100: 0.086560\n",
      "Cost after iteration 1200: 0.076615\n",
      "Cost after iteration 1300: 0.068867\n",
      "Cost after iteration 1400: 0.062425\n",
      "Cost after iteration 1500: 0.056810\n",
      "Cost after iteration 1600: 0.051907\n",
      "Cost after iteration 1700: 0.047790\n",
      "Cost after iteration 1800: 0.044300\n",
      "Cost after iteration 1900: 0.041114\n",
      "Cost after iteration 2000: 0.038212\n",
      "Cost after iteration 2100: 0.035668\n",
      "Cost after iteration 2200: 0.033446\n",
      "Cost after iteration 2300: 0.031489\n",
      "Cost after iteration 2400: 0.029750\n"
     ]
    },
    {
     "data": {
      "image/png": "[encoded data removed]",
      "text/plain": [
       "<Figure size 640x480 with 1 Axes>"
      ]
     },
     "metadata": {},
     "output_type": "display_data"
    },
    {
     "name": "stdout",
     "output_type": "stream",
     "text": [
      "train accuracy: 100.0 %\n",
      "test accuracy: 95.16129032258064 %\n"
     ]
    }
   ],
   "source": [
    "def two_layer_neural_network(x_train, y_train,x_test,y_test, num_iterations):\n",
    "    cost_list = []\n",
    "    index_list = []\n",
    "    #initialize parameters and layer sizes\n",
    "    parameters = initialize_parameters_and_layer_sizes_NN(x_train, y_train)\n",
    "\n",
    "    for i in range(0, num_iterations):\n",
    "         # forward propagation\n",
    "        A2, cache = forward_propagation_NN(x_train,parameters)\n",
    "        # compute cost\n",
    "        cost = compute_cost_NN(A2, y_train, parameters)\n",
    "         # backward propagation\n",
    "        grads = backward_propagation_NN(parameters, cache, x_train, y_train)\n",
    "         # update parameters\n",
    "        parameters = update_parameters_NN(parameters, grads)\n",
    "        \n",
    "        if i % 100 == 0:\n",
    "            cost_list.append(cost)\n",
    "            index_list.append(i)\n",
    "            print (\"Cost after iteration %i: %f\" %(i, cost))\n",
    "    plt.plot(index_list,cost_list)\n",
    "    plt.xticks(index_list,rotation='vertical')\n",
    "    plt.xlabel(\"Number of Iterarion\")\n",
    "    plt.ylabel(\"Cost\")\n",
    "    plt.show()\n",
    "    \n",
    "    # predict\n",
    "    y_prediction_test = predict_NN(parameters,x_test)\n",
    "    y_prediction_train = predict_NN(parameters,x_train)\n",
    "\n",
    "    # Print train/test Errors\n",
    "    print(\"train accuracy: {} %\".format(100 - np.mean(np.abs(y_prediction_train - y_train)) * 100))\n",
    "    print(\"test accuracy: {} %\".format(100 - np.mean(np.abs(y_prediction_test - y_test)) * 100))\n",
    "    return parameters\n",
    "\n",
    "parameters = two_layer_neural_network(x_train, y_train,x_test,y_test, num_iterations=2500)"
   ]
  },
  {
   "cell_type": "markdown",
   "metadata": {},
   "source": [
    "### Explanation of `two_layer_neural_network` Function\n",
    "\n",
    "The `two_layer_neural_network` function trains a 2-layer neural network on the given training data (`x_train`, `y_train`), then evaluates the network's performance on both the training and test datasets (`x_test`, `y_test`). It performs forward and backward propagation, updates parameters iteratively, and outputs the trained parameters along with the accuracy on training and test sets.\n",
    "\n",
    "#### Detailed Breakdown\n",
    "\n",
    "1. **Input Parameters**:\n",
    "   - `x_train`, `y_train`: Training data and labels.\n",
    "   - `x_test`, `y_test`: Test data and labels.\n",
    "   - `num_iterations`: The number of training iterations (i.e., the number of times the network parameters are updated).\n",
    "\n",
    "2. **Initialization of Variables**:\n",
    "   - `cost_list`: An empty list to store the cost value after every 100 iterations, used for tracking how the cost decreases over time.\n",
    "   - `index_list`: An empty list to store the iteration indices, used for plotting the cost curve.\n",
    "\n",
    "3. **Initialize Parameters and Layer Sizes**:\n",
    "   - The function calls `initialize_parameters_and_layer_sizes_NN` to initialize the weights and biases for each layer based on `x_train` and `y_train`. These parameters are stored in a dictionary called `parameters`.\n",
    "\n",
    "4. **Training Loop (Iterations)**:\n",
    "   - The function iterates `num_iterations` times to train the network. Each iteration includes the following steps:\n",
    "\n",
    "     - **Forward Propagation**:\n",
    "       - Calls `forward_propagation_NN` with `x_train` and `parameters` to compute the output (`A2`) and intermediate values (`cache`).\n",
    "       - `A2` represents the predicted probabilities for each training example, while `cache` stores intermediate values for use in backpropagation.\n",
    "\n",
    "     - **Compute Cost**:\n",
    "       - Calls `compute_cost_NN` with `A2`, `y_train`, and `parameters` to calculate the cost, which represents the error between predictions and true labels.\n",
    "       - The cost guides the training by measuring how well the network is performing.\n",
    "\n",
    "     - **Backward Propagation**:\n",
    "       - Calls `backward_propagation_NN` with `parameters`, `cache`, `x_train`, and `y_train` to compute the gradients (`grads`) of the cost with respect to each parameter.\n",
    "       - These gradients are used to update the weights and biases to reduce the cost in subsequent iterations.\n",
    "\n",
    "     - **Update Parameters**:\n",
    "       - Calls `update_parameters_NN` with `parameters` and `grads` to update the weights and biases by taking a step in the direction that reduces the cost.\n",
    "       - The updated parameters are stored back in `parameters` for use in the next iteration.\n",
    "\n",
    "     - **Store and Print Cost Every 100 Iterations**:\n",
    "       - Every 100 iterations, the current cost is appended to `cost_list`, and the iteration index is added to `index_list`.\n",
    "       - The cost value is printed to monitor progress and observe how the cost decreases over time.\n",
    "\n",
    "5. **Plotting the Cost Curve**:\n",
    "   - After the training loop, the function plots `cost_list` vs. `index_list` to show the cost reduction over time.\n",
    "   - The x-axis shows the iteration number, and the y-axis shows the cost, providing a visual of the network’s learning progress.\n",
    "\n",
    "6. **Prediction on Test and Training Data**:\n",
    "   - Calls `predict_NN` with `parameters` and `x_test` to get predictions (`y_prediction_test`) on the test data.\n",
    "   - Calls `predict_NN` with `parameters` and `x_train` to get predictions (`y_prediction_train`) on the training data.\n",
    "\n",
    "7. **Calculate and Print Training and Test Accuracy**:\n",
    "   - Calculates the accuracy on both the training and test datasets by comparing the predictions to the true labels.\n",
    "   - Accuracy is calculated as \\( 100 - \\text{mean absolute error} \\times 100 \\), which gives the percentage of correctly classified examples.\n",
    "   - Prints the training and test accuracy to evaluate the performance of the trained model on both datasets.\n",
    "\n",
    "8. **Return Value**:\n",
    "   - Returns the final `parameters` dictionary, which contains the trained weights and biases. These can be used to make predictions on new data or for further analysis.\n",
    "\n"
   ]
  },
  {
   "cell_type": "markdown",
   "metadata": {},
   "source": [
    "**What Happens if number of hidden layer increase?**"
   ]
  },
  {
   "cell_type": "code",
   "execution_count": null,
   "metadata": {},
   "outputs": [],
   "source": []
  }
 ],
 "metadata": {
  "kernelspec": {
   "display_name": ".venv",
   "language": "python",
   "name": "python3"
  },
  "language_info": {
   "codemirror_mode": {
    "name": "ipython",
    "version": 3
   },
   "file_extension": ".py",
   "mimetype": "text/x-python",
   "name": "python",
   "nbconvert_exporter": "python",
   "pygments_lexer": "ipython3",
   "version": "3.10.15"
  }
 },
 "nbformat": 4,
 "nbformat_minor": 2
}
