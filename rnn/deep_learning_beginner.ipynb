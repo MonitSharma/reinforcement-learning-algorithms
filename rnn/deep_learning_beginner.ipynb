{
 "cells": [
  {
   "cell_type": "markdown",
   "metadata": {},
   "source": [
    "# Deep Learning"
   ]
  },
  {
   "cell_type": "markdown",
   "metadata": {},
   "source": [
    "## Introduction"
   ]
  },
  {
   "cell_type": "markdown",
   "metadata": {},
   "source": [
    "One of the machine learning technique that learns features directly from data. With the amount of data increasing, machine learning techniques are insufficient in terms of performance and deep learning gives better performance and accuracy.\n",
    "\n",
    "Deep learning is used in speech recognition, image classification, natural language processing or recommendation systems."
   ]
  },
  {
   "cell_type": "code",
   "execution_count": 4,
   "metadata": {},
   "outputs": [],
   "source": [
    "import numpy as np\n",
    "import pandas as pd\n",
    "import matplotlib.pyplot as plt \n",
    "import warnings\n",
    "warnings.filterwarnings(\"ignore\")\n",
    "# from subprocess import check_output\n",
    "# print(check_output([\"ls\", \"../input\"]).decode(\"utf8\"))"
   ]
  },
  {
   "cell_type": "markdown",
   "metadata": {},
   "source": [
    "We will be using the \"sign language digit datatset\", there are $2062$ sign language digit images, where digits are from $0$ to $9$, so there are only $10$ unique signs. \n",
    "\n",
    "At the beginning, we will only make use of $0$ and $1$, just for simplicity. \n",
    "\n",
    "In this data, sign $0$ is between indexes $204$ and $408$, number of zero signs are 205, and $1$ is between $822$ and $1027$, and they are $206$ in number, so we will be using $205$ samples from each. \n",
    "\n",
    "$X$ is the image array, (zero and one signs), while $Y$ is the label array (0 and 1)"
   ]
  },
  {
   "cell_type": "code",
   "execution_count": 6,
   "metadata": {},
   "outputs": [
    {
     "data": {
      "text/plain": [
       "(-0.5, 63.5, 63.5, -0.5)"
      ]
     },
     "execution_count": 6,
     "metadata": {},
     "output_type": "execute_result"
    },
    {
     "data": {
      "image/png": "[encoded data removed]",
      "text/plain": [
       "<Figure size 640x480 with 2 Axes>"
      ]
     },
     "metadata": {},
     "output_type": "display_data"
    }
   ],
   "source": [
    "\n",
    "# Load dataset\n",
    "x_l = np.load('sign_language_dataset/X.npy')\n",
    "y_l = np.load('sign_language_dataset/Y.npy')\n",
    "\n",
    "img_size = 64\n",
    "plt.subplot(1, 2, 1)\n",
    "plt.imshow(x_l[260].reshape(img_size, img_size))\n",
    "plt.axis('off')\n",
    "plt.subplot(1, 2, 2)\n",
    "plt.imshow(x_l[900].reshape(img_size, img_size))\n",
    "plt.axis('off')"
   ]
  },
  {
   "cell_type": "markdown",
   "metadata": {},
   "source": [
    "In order to create an image array, we have to concatenate zero sign and one sign arrays, then create a label array 0 for zero sign images and 1 for one sign images."
   ]
  },
  {
   "cell_type": "code",
   "execution_count": 7,
   "metadata": {},
   "outputs": [
    {
     "name": "stdout",
     "output_type": "stream",
     "text": [
      "X shape:  (410, 64, 64)\n",
      "Y shape:  (410, 1)\n"
     ]
    }
   ],
   "source": [
    "# join a sequence of arrays along a new axis.\n",
    "X = np.concatenate((x_l[204:409], x_l[822:1027]), axis = 0)\n",
    "\n",
    "z = np.zeros(205)\n",
    "o = np.ones(205)\n",
    "\n",
    "Y = np.concatenate((z,o), axis = 0 ).reshape(X.shape[0],1)\n",
    "\n",
    "print(\"X shape: \" , X.shape)\n",
    "print(\"Y shape: \" , Y.shape)"
   ]
  },
  {
   "cell_type": "markdown",
   "metadata": {},
   "source": [
    "**What do these dimensions means?**\n",
    "\n",
    "<li> The shape of X is (410,64,64). which can be seen as:\n",
    "    410 number of images (in total)\n",
    "    64 is the size of image, i.e 64x64\n",
    "\n",
    "<li> The shape of Y is (410,1)\n",
    "    410 means the 410 labels that we have, 0 and 1s"
   ]
  },
  {
   "cell_type": "markdown",
   "metadata": {},
   "source": [
    "Now, we have to do the test train split of 75-15, make sure to use the same seed while randomizing, so that if we call this test train split again and again, we always create the same distribution."
   ]
  },
  {
   "cell_type": "code",
   "execution_count": 8,
   "metadata": {},
   "outputs": [
    {
     "name": "stdout",
     "output_type": "stream",
     "text": [
      "Number of train:  348\n",
      "Number of test:  62\n"
     ]
    }
   ],
   "source": [
    "from sklearn.model_selection import train_test_split\n",
    "\n",
    "X_train, X_test, Y_train, Y_test = train_test_split(X, Y, test_size=0.15, random_state=42)\n",
    "\n",
    "number_of_train = X_train.shape[0]\n",
    "number_of_test = X_test.shape[0]\n",
    "\n",
    "print(\"Number of train: \", number_of_train)\n",
    "print(\"Number of test: \", number_of_test)"
   ]
  },
  {
   "cell_type": "markdown",
   "metadata": {},
   "source": [
    "Now, since our X dataset is images, which is a 3 dimensional input array, we need to flatten it to make use of it as an input for our first deep learning model. Our labels Y are alreast 2D"
   ]
  },
  {
   "cell_type": "code",
   "execution_count": 9,
   "metadata": {},
   "outputs": [
    {
     "name": "stdout",
     "output_type": "stream",
     "text": [
      "X train flatten (348, 4096)\n",
      "X test flatten (62, 4096)\n"
     ]
    }
   ],
   "source": [
    "X_train_flatten = X_train.reshape(number_of_train,X_train.shape[1]*X_train.shape[2]) \n",
    "X_test_flatten = X_test .reshape(number_of_test,X_test.shape[1]*X_test.shape[2])\n",
    "\n",
    "print(\"X train flatten\", X_train_flatten.shape)\n",
    "print(\"X test flatten\", X_test_flatten.shape)"
   ]
  },
  {
   "cell_type": "markdown",
   "metadata": {},
   "source": [
    "As you can see, we have 348 images and each image has 4096 pixels in image train array.\n",
    "Also, we have 62 images and each image has 4096 pixels in image test array."
   ]
  },
  {
   "cell_type": "markdown",
   "metadata": {},
   "source": [
    "**Side Note**\n",
    "\n",
    "How does this flattening works?"
   ]
  },
  {
   "cell_type": "code",
   "execution_count": 10,
   "metadata": {},
   "outputs": [
    {
     "name": "stdout",
     "output_type": "stream",
     "text": [
      "Original shape of X_train: (5, 3, 3)\n"
     ]
    }
   ],
   "source": [
    "import numpy as np\n",
    "\n",
    "# Original 3D dataset: 5 images, each 3x3\n",
    "X_train_example = np.array([\n",
    "    [[1, 2, 3],\n",
    "     [4, 5, 6],\n",
    "     [7, 8, 9]],\n",
    "    \n",
    "    [[10, 11, 12],\n",
    "     [13, 14, 15],\n",
    "     [16, 17, 18]],\n",
    "    \n",
    "    [[19, 20, 21],\n",
    "     [22, 23, 24],\n",
    "     [25, 26, 27]],\n",
    "    \n",
    "    [[28, 29, 30],\n",
    "     [31, 32, 33],\n",
    "     [34, 35, 36]],\n",
    "    \n",
    "    [[37, 38, 39],\n",
    "     [40, 41, 42],\n",
    "     [43, 44, 45]]\n",
    "])\n",
    "\n",
    "print(\"Original shape of X_train:\", X_train_example.shape)"
   ]
  },
  {
   "cell_type": "markdown",
   "metadata": {},
   "source": [
    "This output means you have 5 images, each with a shape of 3x3 pixels."
   ]
  },
  {
   "cell_type": "markdown",
   "metadata": {},
   "source": [
    "### Flatten the Images"
   ]
  },
  {
   "cell_type": "code",
   "execution_count": 11,
   "metadata": {},
   "outputs": [
    {
     "name": "stdout",
     "output_type": "stream",
     "text": [
      "Flattened shape of X_train: (5, 9)\n",
      "X_train_flatten:\n",
      " [[ 1  2  3  4  5  6  7  8  9]\n",
      " [10 11 12 13 14 15 16 17 18]\n",
      " [19 20 21 22 23 24 25 26 27]\n",
      " [28 29 30 31 32 33 34 35 36]\n",
      " [37 38 39 40 41 42 43 44 45]]\n"
     ]
    }
   ],
   "source": [
    "number_of_train_example = X_train_example.shape[0]  # 5 images\n",
    "X_train_flatten_example = X_train_example.reshape(number_of_train_example, X_train_example.shape[1] * X_train_example.shape[2])\n",
    "\n",
    "print(\"Flattened shape of X_train:\", X_train_flatten_example.shape)\n",
    "print(\"X_train_flatten:\\n\", X_train_flatten_example)"
   ]
  },
  {
   "cell_type": "markdown",
   "metadata": {},
   "source": [
    "### Explanation of the Flattened Array\n",
    "\n",
    "The shape `(5, 9)` indicates:\n",
    "- There are 5 rows, one for each image.\n",
    "- Each row has 9 values, representing each pixel in the original 3x3 image (flattened).\n",
    "\n",
    "Each row in `X_train_flatten` now contains a flattened version of the original 3x3 image. Here’s what each row represents:\n",
    "\n",
    "- **First image:** `[1, 2, 3, 4, 5, 6, 7, 8, 9]`\n",
    "- **Second image:** `[10, 11, 12, 13, 14, 15, 16, 17, 18]`\n",
    "- **Third image:** `[19, 20, 21, 22, 23, 24, 25, 26, 27]`\n",
    "- **Fourth image:** `[28, 29, 30, 31, 32, 33, 34, 35, 36]`\n",
    "- **Fifth image:** `[37, 38, 39, 40, 41, 42, 43, 44, 45]`\n",
    "\n",
    "### Why This Works\n",
    "\n",
    "Flattening an image essentially \"unrolls\" each 2D matrix (image) into a single row. For a 3x3 image, we take each row and lay it out end-to-end:\n",
    "- The first row `[1, 2, 3]` becomes the first three elements in the flattened row.\n",
    "- The second row `[4, 5, 6]` follows.\n",
    "- The third row `[7, 8, 9]` completes the row.\n",
    "\n",
    "This process is repeated for each image, resulting in a 2D array where each row represents a flattened version of the original 2D image.\n",
    "\n",
    "---\n",
    "\n",
    "### Recap\n",
    "\n",
    "- **Original shape:** `(5, 3, 3)` — 5 images, each 3x3 pixels.\n",
    "- **Flattened shape:** `(5, 9)` — 5 rows, each representing a flattened 3x3 image with 9 pixels.\n",
    "\n",
    "This code enables you to transform your images into a format suitable for feeding into certain machine learning models."
   ]
  },
  {
   "cell_type": "markdown",
   "metadata": {},
   "source": [
    "**back to the original code**"
   ]
  },
  {
   "cell_type": "code",
   "execution_count": 12,
   "metadata": {},
   "outputs": [
    {
     "name": "stdout",
     "output_type": "stream",
     "text": [
      "x train:  (4096, 348)\n",
      "x test:  (4096, 62)\n",
      "y train:  (1, 348)\n",
      "y test:  (1, 62)\n"
     ]
    }
   ],
   "source": [
    "# let's take a transpose of the flattened dataset\n",
    "x_train = X_train_flatten.T\n",
    "x_test = X_test_flatten.T\n",
    "y_train = Y_train.T\n",
    "y_test = Y_test.T\n",
    "\n",
    "print(\"x train: \", x_train.shape)\n",
    "print(\"x test: \", x_test.shape)\n",
    "print(\"y train: \", y_train.shape)\n",
    "print(\"y test: \", y_test.shape)"
   ]
  },
  {
   "cell_type": "markdown",
   "metadata": {},
   "source": [
    "### Why Transpose the Data?\n",
    "\n",
    "Transposing `X_train`, `X_test`, `y_train`, and `y_test` is typically done to adjust the data’s shape to match the expected input format for certain machine learning models, especially in deep learning frameworks.\n",
    "\n",
    "---\n",
    "\n",
    "#### 1. Understanding the Shape of Flattened Data\n",
    "\n",
    "After flattening, suppose `X_train_flatten` has a shape of `(number_of_train, height * width)`. For example:\n",
    "- `X_train_flatten.shape` might be `(1000, 4096)` for 1000 images, each flattened into a vector of size 4096.\n",
    "\n",
    "Most deep learning frameworks expect data in the shape **(features, samples)** rather than **(samples, features)**, particularly for specific types of models or when working directly with linear algebra operations.\n",
    "\n",
    "---\n",
    "\n",
    "#### 2. Why Transpose?\n",
    "\n",
    "When we transpose `X_train` and `X_test`, we change their shape from:\n",
    "- `(samples, features)` to `(features, samples)`\n",
    "\n",
    "Similarly, for the labels `y_train` and `y_test` (assuming they are one-dimensional vectors of shape `(samples,)`), transposing converts them into a 2D shape `(1, samples)`, which is often required for certain models that use vectorized operations.\n",
    "\n",
    "---\n",
    "\n",
    "#### 3. Example\n",
    "\n",
    "Suppose the data shapes are as follows:\n",
    "- `X_train_flatten.shape` = `(1000, 4096)`\n",
    "- `y_train.shape` = `(1000,)`\n",
    "\n",
    "After transposing:\n",
    "- `X_train_flatten.T` shape = `(4096, 1000)`\n",
    "- `y_train.T` shape = `(1, 1000)`\n",
    "\n",
    "This new shape makes it easier to perform operations on a **feature-by-feature basis across samples**, which can be beneficial for vectorized operations in machine learning libraries.\n",
    "\n",
    "---\n",
    "\n",
    "#### 4. Practical Reasons\n",
    "\n",
    "The need for transposing usually arises in these situations:\n",
    "- **Matrix Multiplications**: Some models or linear algebra operations expect the features to be along the rows rather than the columns.\n",
    "- **Framework Expectations**: Certain libraries or algorithms (such as neural network layers in some frameworks) may expect input data in a `(features, samples)` format.\n",
    "- **Batch Processing**: Transposed data can facilitate efficient calculations, especially for batch processing and gradient calculations during backpropagation.\n",
    "\n",
    "---\n",
    "\n",
    "### Summary\n",
    "\n",
    "Transposing the data helps reformat it to align with the model’s input requirements or the framework's expectations, enabling efficient calculations, particularly for batch processing and vectorized operations."
   ]
  },
  {
   "cell_type": "markdown",
   "metadata": {},
   "source": [
    "## Computation Graph"
   ]
  },
  {
   "cell_type": "markdown",
   "metadata": {},
   "source": [
    "They are a nice way to thing about mathematical expressions, for example, if we have\n",
    "$$ c = \\sqrt{a^2 + b^2} $$\n",
    "\n",
    "It's computation graph is:"
   ]
  },
  {
   "attachments": {
    "d.jpg": {
     "image/jpeg": "[encoded data removed]"
    }
   },
   "cell_type": "markdown",
   "metadata": {},
   "source": [
    "![d.jpg](attachment:d.jpg)"
   ]
  },
  {
   "cell_type": "markdown",
   "metadata": {},
   "source": [
    "Now, a computational graph of logistic regression looks like:"
   ]
  },
  {
   "attachments": {
    "5.jpg": {
     "image/jpeg": "[encoded data removed]"
    }
   },
   "cell_type": "markdown",
   "metadata": {},
   "source": [
    "![5.jpg](attachment:5.jpg)"
   ]
  },
  {
   "cell_type": "markdown",
   "metadata": {},
   "source": [
    "# Explanation of the Logistic Regression Computational Graph\n",
    "\n",
    "Logistic regression is a binary classification algorithm used to predict the probability of a target variable belonging to a particular class. The computational graph in the image provides a visual representation of how logistic regression works.\n",
    "\n",
    "---\n",
    "\n",
    "### 1. Input Data (`X_train`)\n",
    "\n",
    "- **`X_train`** represents the input data, which in this example consists of **4096 features** (labeled `px1`, `px2`, ..., `px4096`).\n",
    "- Each feature in `X_train` corresponds to a pixel in an image (flattened into a single row), where **4096** represents the total number of pixels (e.g., for a 64x64 grayscale image).\n",
    "- Each feature is a numeric value (pixel intensity) that is input into the model.\n",
    "\n",
    "---\n",
    "\n",
    "### 2. Weights (`w0`, `w1`, ..., `w4096`)\n",
    "\n",
    "- Each input feature (`px1`, `px2`, ..., `px4096`) is associated with a weight (`w0`, `w1`, ..., `w4096`).\n",
    "- These **weights** are parameters learned by the logistic regression model during training.\n",
    "- Each weight indicates the importance or influence of a corresponding feature on the final prediction.\n",
    "\n",
    "---\n",
    "\n",
    "### 3. Bias (`b`)\n",
    "\n",
    "- The **bias term `b`** is an additional parameter that allows the model to adjust the output independently of the input values.\n",
    "- It essentially shifts the decision boundary of the model, enabling it to fit the data better.\n",
    "\n",
    "---\n",
    "\n",
    "### 4. Summation (`z`)\n",
    "\n",
    "- The input data and weights are combined in a linear form:\n",
    "  \n",
    "  $$\n",
    "  z = w_0 \\cdot px1 + w_1 \\cdot px2 + w_2 \\cdot px3 + \\dots + w_{4096} \\cdot px4096 + b\n",
    "  $$\n",
    "\n",
    "- This summation computes the **weighted sum** of the input features, plus the bias.\n",
    "- The result, `z`, is a single scalar value that represents the linear combination of inputs.\n",
    "\n",
    "---\n",
    "\n",
    "### 5. Sigmoid Activation Function\n",
    "\n",
    "- After computing `z`, the value is passed through the **sigmoid function**, which is defined as:\n",
    "\n",
    "  $$\n",
    "  \\sigma(z) = \\frac{1}{1 + e^{-z}}\n",
    "  $$\n",
    "\n",
    "- The sigmoid function **squashes the output** into a range between 0 and 1, making it interpretable as a probability.\n",
    "- This output, often denoted as **`y_hat`** (or the predicted probability), represents the probability that the input belongs to the positive class (e.g., sign language \"1\" in this case).\n",
    "\n",
    "---\n",
    "\n",
    "### 6. Output Probability (`y_head` or `ŷ`)\n",
    "\n",
    "- The sigmoid function’s output, `ŷ` (or `y_head`), represents the **probability of the positive class**.\n",
    "- For example, if `ŷ = 0.9`, it implies a 90% probability that the input belongs to class \"1\".\n",
    "\n",
    "---\n",
    "\n",
    "### 7. Thresholding and Prediction\n",
    "\n",
    "- In binary classification, a threshold (typically 0.5) is applied to `ŷ` to make a final prediction:\n",
    "  - If `ŷ > 0.5`, the prediction is class `1`.\n",
    "  - If `ŷ <= 0.5`, the prediction is class `0`.\n",
    "- In this example, `ŷ = 0.9`, which is greater than 0.5, so the model predicts the input is of class `1`.\n",
    "\n",
    "---\n",
    "\n",
    "### Summary of Steps\n",
    "\n",
    "1. **Input Data**: Each pixel (feature) of the image is fed into the model.\n",
    "2. **Weights and Bias**: The model applies learned weights and bias to each feature.\n",
    "3. **Summation (`z`)**: Computes the weighted sum of all features.\n",
    "4. **Sigmoid Activation**: Transforms `z` into a probability between 0 and 1.\n",
    "5. **Thresholding**: Compares `ŷ` to 0.5 to make a binary prediction.\n",
    "\n",
    "This computational graph demonstrates how logistic regression works in a structured way, transforming raw pixel data into a probabilistic prediction, ultimately used for classification."
   ]
  },
  {
   "cell_type": "markdown",
   "metadata": {},
   "source": [
    "# Why Use the Sigmoid Function in Logistic Regression?\n",
    "\n",
    "The sigmoid function plays a crucial role in logistic regression, as it transforms the output of a linear equation into a probability, making it suitable for binary classification tasks. Here’s a detailed breakdown of why the sigmoid function is used:\n",
    "\n",
    "---\n",
    "\n",
    "### 1. Mapping Output to Probability\n",
    "\n",
    "- Logistic regression is used for **binary classification**, where the goal is to predict the probability that an input belongs to a certain class (e.g., class `1` or class `0`).\n",
    "- The sigmoid function **maps any real-valued number** (the output of the linear equation) into a range between **0 and 1**, which can be interpreted as a probability.\n",
    "  \n",
    "  $$\n",
    "  \\sigma(z) = \\frac{1}{1 + e^{-z}}\n",
    "  $$\n",
    "\n",
    "- If the output of the linear equation `z` is very large (positive or negative), the sigmoid function will bring it within the probability range of `[0, 1]`, where:\n",
    "  - Values close to 1 indicate a high probability of belonging to the positive class.\n",
    "  - Values close to 0 indicate a low probability of belonging to the positive class.\n",
    "\n",
    "---\n",
    "\n",
    "### 2. Smooth and Differentiable\n",
    "\n",
    "- The sigmoid function is **smooth and differentiable**, which means it has a continuous gradient.\n",
    "- This smooth gradient is essential for **gradient-based optimization** algorithms, such as gradient descent, which are used to find optimal weights and bias values in logistic regression.\n",
    "- The differentiable nature of the sigmoid function allows us to compute gradients, enabling efficient updates to the weights and bias during training.\n",
    "\n",
    "---\n",
    "\n",
    "### 3. Non-linear Transformation\n",
    "\n",
    "- Logistic regression applies a **linear transformation** to the input features (using weights and bias), but a linear model alone cannot output probabilities.\n",
    "- The sigmoid function introduces **non-linearity** to the model, allowing it to produce probabilities rather than unrestricted real numbers.\n",
    "- This non-linearity is crucial for classification tasks, as it compresses the output of the linear combination into a bounded range, `[0, 1]`, which can be interpreted as a probability.\n",
    "\n",
    "---\n",
    "\n",
    "### 4. Decision Boundary\n",
    "\n",
    "- By applying a threshold (typically 0.5) to the sigmoid output, we can classify the input as one of two classes:\n",
    "  - If `ŷ > 0.5`, classify as class `1` (positive).\n",
    "  - If `ŷ <= 0.5`, classify as class `0` (negative).\n",
    "- The sigmoid function creates a **smooth decision boundary** that separates the two classes, allowing logistic regression to work well for linearly separable data.\n",
    "\n",
    "---\n",
    "\n",
    "### 5. Interpretability\n",
    "\n",
    "- The output of the sigmoid function can be **directly interpreted as a probability**, making logistic regression a probabilistic model.\n",
    "- For example, if `ŷ = 0.9`, we can interpret this as a 90% confidence that the input belongs to class `1`.\n",
    "- This probabilistic interpretation is valuable in many applications, such as medical diagnosis or spam detection, where understanding the confidence of the prediction is essential.\n",
    "\n",
    "---\n",
    "\n",
    "### Summary: Benefits of Using the Sigmoid Function\n",
    "\n",
    "- **Maps outputs to probabilities**: Outputs a value between 0 and 1, making it interpretable as a probability.\n",
    "- **Smooth and differentiable**: Facilitates gradient-based optimization in training.\n",
    "- **Non-linear transformation**: Enables logistic regression to output probabilities instead of raw linear values.\n",
    "- **Enables decision boundary**: Allows thresholding to separate classes effectively.\n",
    "- **Interpretability**: Makes the output directly understandable as the probability of belonging to a specific class.\n",
    "\n",
    "In short, the sigmoid function is used in logistic regression to convert the linear output into a probability that can be thresholded for binary classification. This makes logistic regression a powerful yet simple model for classification tasks."
   ]
  },
  {
   "cell_type": "markdown",
   "metadata": {},
   "source": [
    "## Initializing Parameters"
   ]
  },
  {
   "cell_type": "markdown",
   "metadata": {},
   "source": [
    "### Initializing Parameters in Logistic Regression\n",
    "\n",
    "In logistic regression, our input consists of images with **4096 pixels each** (as given in `x_train`). Each pixel has an associated **weight** that indicates its influence on the final prediction. Before training the model, we need to initialize these weights and the bias term.\n",
    "\n",
    "#### 1. Why Initialize Weights?\n",
    "\n",
    "The first step in logistic regression is to **multiply each pixel's value by its corresponding weight** and then sum the results to get a linear combination of the input features. However, since the model hasn’t learned any patterns yet, the weights need to be initialized with some initial values. Proper weight initialization is crucial, as it sets the foundation for learning. Starting with poor values can lead to slower or suboptimal learning.\n",
    "\n",
    "#### 2. Initial Values for Weights\n",
    "\n",
    "For this example, we’ll initialize all weights to a small value of **0.01**. Initializing weights with small, non-zero values helps prevent the model from getting \"stuck\" with zero gradients and enables it to start learning effectively. (There are more advanced initialization techniques, which we’ll discuss in detail when covering Artificial Neural Networks (ANNs), but for now, setting weights to 0.01 will suffice.)\n",
    "\n",
    "#### 3. Shape of the Weight Array\n",
    "\n",
    "As we can see from the computational graph of logistic regression, there are **4096 weights** — one for each pixel in an image. Since each weight is applied to a single pixel, the weight array has a shape of **(4096, 1)**. This shape allows each weight to align with its corresponding pixel in the input data.\n",
    "\n",
    "#### 4. Initializing the Bias\n",
    "\n",
    "In addition to weights, we also initialize a **bias term (`b`)**. The bias term allows the model to shift the decision boundary independently of the input values, giving it more flexibility. For logistic regression, we typically initialize the bias to **0**.\n",
    "\n",
    "---\n",
    "\n",
    "### Code for Parameter Initialization\n",
    "\n",
    "To keep the code modular and reusable, we’ll define a function to initialize these parameters. This function will be useful later when we expand into more complex models, such as Artificial Neural Networks (ANNs).\n",
    "\n",
    "```python\n",
    "def initialize_parameters(dim):\n",
    "    \"\"\"\n",
    "    Initializes weights and bias for logistic regression.\n",
    "    \n",
    "    Arguments:\n",
    "    dim -- size of the weight vector (number of features)\n",
    "    \n",
    "    Returns:\n",
    "    w -- initialized weight vector of shape (dim, 1)\n",
    "    b -- initialized bias, set to 0\n",
    "    \"\"\"\n",
    "    w = np.full((dim, 1), 0.01)  # Initialize weights with 0.01\n",
    "    b = 0                        # Initialize bias to 0\n",
    "    return w, b\n",
    "\n",
    "# Example usage\n",
    "dim = 4096  # Number of pixels in each image\n",
    "w, b = initialize_parameters(dim)\n",
    "print(\"Shape of weights:\", w.shape)\n",
    "print(\"Bias:\", b)\n",
    "```"
   ]
  },
  {
   "cell_type": "markdown",
   "metadata": {},
   "source": [
    "#### Explanation of the Code\n",
    "\n",
    "- **Function Name**: `initialize_parameters`  \n",
    "  This function is designed to initialize the weight vector (`w`) and the bias (`b`) for logistic regression. By using a function, we keep the initialization code modular and reusable for future applications.\n",
    "\n",
    "- **Parameter (`dim`)**:  \n",
    "  The function takes `dim` as an argument, which represents the number of features (or pixels) in each image. In our case, `dim = 4096`, since each image has 4096 pixels.\n",
    "\n",
    "- **Weight Initialization**:  \n",
    "  Inside the function, `np.full((dim, 1), 0.01)` creates a weight vector `w` with the specified shape `(dim, 1)`, where each element is set to the initial value **0.01**. This results in a weight vector with 4096 rows and 1 column, corresponding to each pixel. Initializing all weights with a small, non-zero value (0.01) provides a good starting point for learning and helps the model avoid issues that can arise if weights start at zero.\n",
    "\n",
    "- **Bias Initialization**:  \n",
    "  The bias `b` is initialized to **0**. Unlike weights, bias is a single scalar value that adjusts the model's output independently of the input features. Initializing it to zero is common practice in logistic regression, as it will be updated during training.\n",
    "\n",
    "- **Returning Values**:  \n",
    "  The function returns `w` and `b` as outputs, providing the initialized parameters to use in the model.\n",
    "\n",
    "- **Example Usage**:  \n",
    "  After defining the function, we call `initialize_parameters(4096)` to initialize weights and bias for images with 4096 pixels. The output shows:\n",
    "  - `w` with a shape of `(4096, 1)`, meaning there’s a weight for each pixel.\n",
    "  - `b` initialized to `0`.\n",
    "\n",
    "This initialization setup allows the logistic regression model to start with appropriate initial values for training."
   ]
  },
  {
   "cell_type": "code",
   "execution_count": 15,
   "metadata": {},
   "outputs": [],
   "source": [
    "def initialize_weights_and_bias(dimension):\n",
    "    w = np.full((dimension, 1), 0.01)\n",
    "    b = 0.0\n",
    "    return w, b"
   ]
  },
  {
   "cell_type": "markdown",
   "metadata": {},
   "source": [
    "### Forward Propagation in Logistic Regression\n",
    "\n",
    "**Forward propagation** in logistic regression involves all the steps from processing the input pixels to calculating the cost (error) for a single training iteration. Let’s break down each step:\n",
    "\n",
    "---\n",
    "\n",
    "#### 1. Linear Combination (`z`)\n",
    "\n",
    "The first step in forward propagation is to calculate a **linear combination** of the input features and their corresponding weights, plus the bias term. This is given by the equation:\n",
    "\n",
    "\\[\n",
    "z = w^T x + b\n",
    "\\]\n",
    "\n",
    "where:\n",
    "- `x` is the input vector (flattened pixels of an image).\n",
    "- `w` is the weight vector.\n",
    "- `b` is the bias term.\n",
    "- `w^T` represents the transpose of `w`, which allows us to perform matrix multiplication with `x` and get a scalar output.\n",
    "\n",
    "Since we already have values for `x`, `w`, and `b` from the input data and parameter initialization, calculating `z` is straightforward.\n",
    "\n",
    "---\n",
    "\n",
    "#### 2. Sigmoid Activation Function\n",
    "\n",
    "After calculating `z`, we pass it through the **sigmoid function** to convert it into a probability. The sigmoid function, defined as:\n",
    "\n",
    "\\[\n",
    "\\sigma(z) = \\frac{1}{1 + e^{-z}}\n",
    "\\]\n",
    "\n",
    "squashes the output to a value between **0 and 1**, which represents the predicted probability (`y_head`) of the input belonging to the positive class (e.g., class `1`). This probability, `y_head`, is our model’s prediction for the given input.\n",
    "\n",
    "If you get confused by the steps, refer back to the computation graph for logistic regression. The sigmoid function is visually depicted there to help you understand how it transforms `z` into a probability.\n",
    "\n",
    "---\n",
    "\n",
    "#### 3. Loss (Error) Calculation\n",
    "\n",
    "Next, we calculate the **loss (error)** for a single training example. The loss function measures how far off the prediction (`y_head`) is from the actual label `y`. In logistic regression, we use the **binary cross-entropy loss**:\n",
    "\n",
    "\\[\n",
    "\\text{Loss} = - \\left( y \\cdot \\log(y\\_head) + (1 - y) \\cdot \\log(1 - y\\_head) \\right)\n",
    "\\]\n",
    "\n",
    "where:\n",
    "- `y` is the true label (0 or 1) for the input.\n",
    "- `y_head` is the predicted probability of class `1`.\n",
    "\n",
    "This loss function penalizes incorrect predictions more heavily, making it ideal for binary classification tasks.\n",
    "\n",
    "---\n",
    "\n",
    "#### 4. Cost Function (Summing All Losses)\n",
    "\n",
    "The **cost function** is the average of the loss values across all training examples. It is computed as:\n",
    "\n",
    "\\[\n",
    "\\text{Cost} = \\frac{1}{m} \\sum_{i=1}^{m} \\text{Loss}(y_i, y\\_head_i)\n",
    "\\]\n",
    "\n",
    "where:\n",
    "- `m` is the total number of training examples.\n",
    "- `Loss(y_i, y_head_i)` is the loss for each individual example.\n",
    "\n",
    "Minimizing this cost function during training will improve the model’s accuracy by adjusting the weights and bias to reduce prediction errors.\n",
    "\n",
    "---\n",
    "\n",
    "### Code for Forward Propagation\n",
    "\n",
    "Let’s start by calculating `z`, then define a function for the sigmoid activation, which takes `z` as an input parameter and returns `y_head` (the probability).\n",
    "\n",
    "```python\n",
    "def sigmoid(z):\n",
    "    \"\"\"\n",
    "    Computes the sigmoid of z.\n",
    "\n",
    "    Arguments:\n",
    "    z -- A scalar or numpy array of any size\n",
    "\n",
    "    Returns:\n",
    "    s -- sigmoid(z), output between 0 and 1\n",
    "    \"\"\"\n",
    "    s = 1 / (1 + np.exp(-z))\n",
    "    return s\n",
    "\n",
    "# Example calculation of z\n",
    "z = np.dot(w.T, x) + b  # w.T represents the transpose of w\n",
    "y_head = sigmoid(z)     # y_head is the predicted probability\n",
    "```"
   ]
  },
  {
   "cell_type": "markdown",
   "metadata": {},
   "source": [
    "#### Explanation of the Code\n",
    "\n",
    "- **Sigmoid Function**:  \n",
    "  The `sigmoid` function calculates the sigmoid of `z`, which is a mathematical operation that maps any input to a value between 0 and 1. This output represents the probability (`y_head`) that the input belongs to the positive class. The sigmoid function is defined as:\n",
    "\n",
    "  $$\n",
    "  \\sigma(z) = \\frac{1}{1 + e^{-z}}\n",
    "  $$\n",
    "  In the code, `s = 1 / (1 + np.exp(-z))` implements this formula, where `np.exp(-z)` calculates the exponential of `-z` for each element in `z`.\n",
    "\n",
    "- **Calculation of `z`**:  \n",
    "  The variable `z` is calculated using the expression `np.dot(w.T, x) + b`. Here:\n",
    "  - `w.T` is the transpose of the weight vector `w`. Transposing `w` (which has shape `(4096, 1)`) makes it compatible with `x` for matrix multiplication.\n",
    "  - `np.dot(w.T, x)` performs the dot product between `w.T` and `x`, resulting in a scalar value `z` (since `x` is also a vector of shape `(4096, 1)`).\n",
    "  - Adding `b` incorporates the bias term into the calculation, which helps adjust the model's decision boundary.\n",
    "\n",
    "- **Predicted Probability (`y_head`)**:  \n",
    "  After calculating `z`, we pass it into the `sigmoid` function to obtain `y_head`, the predicted probability that the input belongs to class `1`. This probability (`y_head`) will be used to calculate the loss and cost in the training process.\n",
    "\n",
    "By organizing the code this way, we separate the calculation of `z` and the sigmoid function, which makes it modular and easier to understand. This modular approach will also make it easier to reuse the sigmoid function in future parts of the model."
   ]
  },
  {
   "cell_type": "code",
   "execution_count": 16,
   "metadata": {},
   "outputs": [],
   "source": [
    "def sigmoid(z):\n",
    "    y_head = 1/(1+np.exp(-z))\n",
    "    return y_head"
   ]
  },
  {
   "cell_type": "code",
   "execution_count": 17,
   "metadata": {},
   "outputs": [
    {
     "name": "stdout",
     "output_type": "stream",
     "text": [
      "0.5\n"
     ]
    }
   ],
   "source": [
    "y_head = sigmoid(0)\n",
    "print(y_head)"
   ]
  },
  {
   "cell_type": "code",
   "execution_count": null,
   "metadata": {},
   "outputs": [],
   "source": []
  }
 ],
 "metadata": {
  "kernelspec": {
   "display_name": ".venv",
   "language": "python",
   "name": "python3"
  },
  "language_info": {
   "codemirror_mode": {
    "name": "ipython",
    "version": 3
   },
   "file_extension": ".py",
   "mimetype": "text/x-python",
   "name": "python",
   "nbconvert_exporter": "python",
   "pygments_lexer": "ipython3",
   "version": "3.10.15"
  }
 },
 "nbformat": 4,
 "nbformat_minor": 2
}
