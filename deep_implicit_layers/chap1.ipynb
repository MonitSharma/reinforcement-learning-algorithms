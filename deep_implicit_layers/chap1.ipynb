{
 "cells": [
  {
   "cell_type": "markdown",
   "metadata": {},
   "source": [
    "## Explicit Layers in Deep Learning"
   ]
  },
  {
   "cell_type": "markdown",
   "metadata": {},
   "source": [
    "#### Self Masked Attention\n",
    "\n",
    "$$Z = \\text{Self Attention}(K,Q,V) = \\text{softmax} \\bigg( \\frac{KQ^T}{\\sqrt{n}}   \\bigg) V $$"
   ]
  },
  {
   "cell_type": "code",
   "execution_count": 3,
   "metadata": {},
   "outputs": [
    {
     "name": "stdout",
     "output_type": "stream",
     "text": [
      "[[ 4.63382945e+01  6.27244725e+01 -9.73647231e+00 -1.70517451e+00\n",
      "  -9.32788745e+00]\n",
      " [-2.08997709e-01 -3.59726505e-01  1.20331601e-01 -2.89280319e-01\n",
      "  -6.74852505e-01]\n",
      " [-2.45140103e-01 -3.89976275e-01  1.23663751e-01 -2.41288964e-01\n",
      "  -5.30711370e-01]\n",
      " [-3.68358761e-01 -6.77763955e-01  4.98825822e-02 -1.01820603e-01\n",
      "  -5.13718179e-01]]\n"
     ]
    }
   ],
   "source": [
    "import numpy as np\n",
    "\n",
    "\"\"\"\n",
    "Comments explaining the function: self_attention\n",
    "This function takes in three matrices K, Q, and V, and returns the self-attention matrix A.\n",
    "The function first calculates the dot product of K and Q transposed, and then exponentiates the result.\n",
    "The function then divides the result by the square root of the number of columns in K.\n",
    "Finally, the function divides the result by the sum of the result along the second axis, and then multiplies the result by V.\n",
    "\"\"\"\n",
    "\n",
    "def self_attention(K,Q,V):\n",
    "    A = np.exp(K@ Q.T)/np.sqrt(K.shape[1])\n",
    "    return (A/np.sum(A,1)) @ V\n",
    "\n",
    "\n",
    "K,Q,V = np.random.randn(3,4,5)\n",
    "print(self_attention(K,Q,V))"
   ]
  },
  {
   "cell_type": "code",
   "execution_count": null,
   "metadata": {},
   "outputs": [],
   "source": []
  },
  {
   "cell_type": "code",
   "execution_count": null,
   "metadata": {},
   "outputs": [],
   "source": []
  }
 ],
 "metadata": {
  "kernelspec": {
   "display_name": ".venv",
   "language": "python",
   "name": "python3"
  },
  "language_info": {
   "codemirror_mode": {
    "name": "ipython",
    "version": 3
   },
   "file_extension": ".py",
   "mimetype": "text/x-python",
   "name": "python",
   "nbconvert_exporter": "python",
   "pygments_lexer": "ipython3",
   "version": "3.10.11"
  }
 },
 "nbformat": 4,
 "nbformat_minor": 2
}
